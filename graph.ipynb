{
 "cells": [
  {
   "cell_type": "code",
   "execution_count": 6,
   "id": "472a0ec3",
   "metadata": {},
   "outputs": [],
   "source": [
    "import json\n",
    "import pandas as pd\n",
    "import plotly.express as px\n",
    "import plotly.graph_objects as go"
   ]
  },
  {
   "cell_type": "code",
   "execution_count": 7,
   "id": "29db91ba",
   "metadata": {},
   "outputs": [
    {
     "data": {
      "application/vnd.plotly.v1+json": {
       "config": {
        "plotlyServerURL": "https://plot.ly"
       },
       "data": [
        {
         "hovertemplate": "animation_frame=1957<br>Year=%{x}<br>Launches=%{y}<extra></extra>",
         "ids": {
          "bdata": "pQc=",
          "dtype": "i2"
         },
         "legendgroup": "",
         "line": {
          "color": "#636efa",
          "dash": "solid"
         },
         "marker": {
          "color": "blue",
          "size": 15,
          "symbol": "circle"
         },
         "mode": "lines+markers",
         "name": "",
         "orientation": "v",
         "showlegend": false,
         "type": "scatter",
         "x": {
          "bdata": "pQc=",
          "dtype": "i2"
         },
         "xaxis": "x",
         "y": {
          "bdata": "Ag==",
          "dtype": "i1"
         },
         "yaxis": "y"
        }
       ],
       "frames": [
        {
         "data": [
          {
           "hovertemplate": "animation_frame=1957<br>Year=%{x}<br>Launches=%{y}<extra></extra>",
           "ids": {
            "bdata": "pQc=",
            "dtype": "i2"
           },
           "legendgroup": "",
           "line": {
            "color": "#636efa",
            "dash": "solid"
           },
           "marker": {
            "symbol": "circle"
           },
           "mode": "lines+markers",
           "name": "",
           "orientation": "v",
           "showlegend": false,
           "type": "scatter",
           "x": {
            "bdata": "pQc=",
            "dtype": "i2"
           },
           "xaxis": "x",
           "y": {
            "bdata": "Ag==",
            "dtype": "i1"
           },
           "yaxis": "y"
          }
         ],
         "name": "1957"
        },
        {
         "data": [
          {
           "hovertemplate": "animation_frame=1958<br>Year=%{x}<br>Launches=%{y}<extra></extra>",
           "ids": {
            "bdata": "pgc=",
            "dtype": "i2"
           },
           "legendgroup": "",
           "line": {
            "color": "#636efa",
            "dash": "solid"
           },
           "marker": {
            "symbol": "circle"
           },
           "mode": "lines+markers",
           "name": "",
           "orientation": "v",
           "showlegend": false,
           "type": "scatter",
           "x": {
            "bdata": "pgc=",
            "dtype": "i2"
           },
           "xaxis": "x",
           "y": {
            "bdata": "CA==",
            "dtype": "i1"
           },
           "yaxis": "y"
          }
         ],
         "name": "1958"
        },
        {
         "data": [
          {
           "hovertemplate": "animation_frame=1959<br>Year=%{x}<br>Launches=%{y}<extra></extra>",
           "ids": {
            "bdata": "pwc=",
            "dtype": "i2"
           },
           "legendgroup": "",
           "line": {
            "color": "#636efa",
            "dash": "solid"
           },
           "marker": {
            "symbol": "circle"
           },
           "mode": "lines+markers",
           "name": "",
           "orientation": "v",
           "showlegend": false,
           "type": "scatter",
           "x": {
            "bdata": "pwc=",
            "dtype": "i2"
           },
           "xaxis": "x",
           "y": {
            "bdata": "Dg==",
            "dtype": "i1"
           },
           "yaxis": "y"
          }
         ],
         "name": "1959"
        },
        {
         "data": [
          {
           "hovertemplate": "animation_frame=1960<br>Year=%{x}<br>Launches=%{y}<extra></extra>",
           "ids": {
            "bdata": "qAc=",
            "dtype": "i2"
           },
           "legendgroup": "",
           "line": {
            "color": "#636efa",
            "dash": "solid"
           },
           "marker": {
            "symbol": "circle"
           },
           "mode": "lines+markers",
           "name": "",
           "orientation": "v",
           "showlegend": false,
           "type": "scatter",
           "x": {
            "bdata": "qAc=",
            "dtype": "i2"
           },
           "xaxis": "x",
           "y": {
            "bdata": "FA==",
            "dtype": "i1"
           },
           "yaxis": "y"
          }
         ],
         "name": "1960"
        },
        {
         "data": [
          {
           "hovertemplate": "animation_frame=1961<br>Year=%{x}<br>Launches=%{y}<extra></extra>",
           "ids": {
            "bdata": "qQc=",
            "dtype": "i2"
           },
           "legendgroup": "",
           "line": {
            "color": "#636efa",
            "dash": "solid"
           },
           "marker": {
            "symbol": "circle"
           },
           "mode": "lines+markers",
           "name": "",
           "orientation": "v",
           "showlegend": false,
           "type": "scatter",
           "x": {
            "bdata": "qQc=",
            "dtype": "i2"
           },
           "xaxis": "x",
           "y": {
            "bdata": "Jg==",
            "dtype": "i1"
           },
           "yaxis": "y"
          }
         ],
         "name": "1961"
        },
        {
         "data": [
          {
           "hovertemplate": "animation_frame=1962<br>Year=%{x}<br>Launches=%{y}<extra></extra>",
           "ids": {
            "bdata": "qgc=",
            "dtype": "i2"
           },
           "legendgroup": "",
           "line": {
            "color": "#636efa",
            "dash": "solid"
           },
           "marker": {
            "symbol": "circle"
           },
           "mode": "lines+markers",
           "name": "",
           "orientation": "v",
           "showlegend": false,
           "type": "scatter",
           "x": {
            "bdata": "qgc=",
            "dtype": "i2"
           },
           "xaxis": "x",
           "y": {
            "bdata": "TQ==",
            "dtype": "i1"
           },
           "yaxis": "y"
          }
         ],
         "name": "1962"
        },
        {
         "data": [
          {
           "hovertemplate": "animation_frame=1963<br>Year=%{x}<br>Launches=%{y}<extra></extra>",
           "ids": {
            "bdata": "qwc=",
            "dtype": "i2"
           },
           "legendgroup": "",
           "line": {
            "color": "#636efa",
            "dash": "solid"
           },
           "marker": {
            "symbol": "circle"
           },
           "mode": "lines+markers",
           "name": "",
           "orientation": "v",
           "showlegend": false,
           "type": "scatter",
           "x": {
            "bdata": "qwc=",
            "dtype": "i2"
           },
           "xaxis": "x",
           "y": {
            "bdata": "Rw==",
            "dtype": "i1"
           },
           "yaxis": "y"
          }
         ],
         "name": "1963"
        },
        {
         "data": [
          {
           "hovertemplate": "animation_frame=1964<br>Year=%{x}<br>Launches=%{y}<extra></extra>",
           "ids": {
            "bdata": "rAc=",
            "dtype": "i2"
           },
           "legendgroup": "",
           "line": {
            "color": "#636efa",
            "dash": "solid"
           },
           "marker": {
            "symbol": "circle"
           },
           "mode": "lines+markers",
           "name": "",
           "orientation": "v",
           "showlegend": false,
           "type": "scatter",
           "x": {
            "bdata": "rAc=",
            "dtype": "i2"
           },
           "xaxis": "x",
           "y": {
            "bdata": "aw==",
            "dtype": "i1"
           },
           "yaxis": "y"
          }
         ],
         "name": "1964"
        },
        {
         "data": [
          {
           "hovertemplate": "animation_frame=1965<br>Year=%{x}<br>Launches=%{y}<extra></extra>",
           "ids": {
            "bdata": "rQc=",
            "dtype": "i2"
           },
           "legendgroup": "",
           "line": {
            "color": "#636efa",
            "dash": "solid"
           },
           "marker": {
            "symbol": "circle"
           },
           "mode": "lines+markers",
           "name": "",
           "orientation": "v",
           "showlegend": false,
           "type": "scatter",
           "x": {
            "bdata": "rQc=",
            "dtype": "i2"
           },
           "xaxis": "x",
           "y": {
            "bdata": "oQA=",
            "dtype": "i2"
           },
           "yaxis": "y"
          }
         ],
         "name": "1965"
        },
        {
         "data": [
          {
           "hovertemplate": "animation_frame=1966<br>Year=%{x}<br>Launches=%{y}<extra></extra>",
           "ids": {
            "bdata": "rgc=",
            "dtype": "i2"
           },
           "legendgroup": "",
           "line": {
            "color": "#636efa",
            "dash": "solid"
           },
           "marker": {
            "symbol": "circle"
           },
           "mode": "lines+markers",
           "name": "",
           "orientation": "v",
           "showlegend": false,
           "type": "scatter",
           "x": {
            "bdata": "rgc=",
            "dtype": "i2"
           },
           "xaxis": "x",
           "y": {
            "bdata": "kQA=",
            "dtype": "i2"
           },
           "yaxis": "y"
          }
         ],
         "name": "1966"
        },
        {
         "data": [
          {
           "hovertemplate": "animation_frame=1967<br>Year=%{x}<br>Launches=%{y}<extra></extra>",
           "ids": {
            "bdata": "rwc=",
            "dtype": "i2"
           },
           "legendgroup": "",
           "line": {
            "color": "#636efa",
            "dash": "solid"
           },
           "marker": {
            "symbol": "circle"
           },
           "mode": "lines+markers",
           "name": "",
           "orientation": "v",
           "showlegend": false,
           "type": "scatter",
           "x": {
            "bdata": "rwc=",
            "dtype": "i2"
           },
           "xaxis": "x",
           "y": {
            "bdata": "nwA=",
            "dtype": "i2"
           },
           "yaxis": "y"
          }
         ],
         "name": "1967"
        },
        {
         "data": [
          {
           "hovertemplate": "animation_frame=1968<br>Year=%{x}<br>Launches=%{y}<extra></extra>",
           "ids": {
            "bdata": "sAc=",
            "dtype": "i2"
           },
           "legendgroup": "",
           "line": {
            "color": "#636efa",
            "dash": "solid"
           },
           "marker": {
            "symbol": "circle"
           },
           "mode": "lines+markers",
           "name": "",
           "orientation": "v",
           "showlegend": false,
           "type": "scatter",
           "x": {
            "bdata": "sAc=",
            "dtype": "i2"
           },
           "xaxis": "x",
           "y": {
            "bdata": "jAA=",
            "dtype": "i2"
           },
           "yaxis": "y"
          }
         ],
         "name": "1968"
        },
        {
         "data": [
          {
           "hovertemplate": "animation_frame=1969<br>Year=%{x}<br>Launches=%{y}<extra></extra>",
           "ids": {
            "bdata": "sQc=",
            "dtype": "i2"
           },
           "legendgroup": "",
           "line": {
            "color": "#636efa",
            "dash": "solid"
           },
           "marker": {
            "symbol": "circle"
           },
           "mode": "lines+markers",
           "name": "",
           "orientation": "v",
           "showlegend": false,
           "type": "scatter",
           "x": {
            "bdata": "sQc=",
            "dtype": "i2"
           },
           "xaxis": "x",
           "y": {
            "bdata": "igA=",
            "dtype": "i2"
           },
           "yaxis": "y"
          }
         ],
         "name": "1969"
        },
        {
         "data": [
          {
           "hovertemplate": "animation_frame=1970<br>Year=%{x}<br>Launches=%{y}<extra></extra>",
           "ids": {
            "bdata": "sgc=",
            "dtype": "i2"
           },
           "legendgroup": "",
           "line": {
            "color": "#636efa",
            "dash": "solid"
           },
           "marker": {
            "symbol": "circle"
           },
           "mode": "lines+markers",
           "name": "",
           "orientation": "v",
           "showlegend": false,
           "type": "scatter",
           "x": {
            "bdata": "sgc=",
            "dtype": "i2"
           },
           "xaxis": "x",
           "y": {
            "bdata": "ggA=",
            "dtype": "i2"
           },
           "yaxis": "y"
          }
         ],
         "name": "1970"
        },
        {
         "data": [
          {
           "hovertemplate": "animation_frame=1971<br>Year=%{x}<br>Launches=%{y}<extra></extra>",
           "ids": {
            "bdata": "swc=",
            "dtype": "i2"
           },
           "legendgroup": "",
           "line": {
            "color": "#636efa",
            "dash": "solid"
           },
           "marker": {
            "symbol": "circle"
           },
           "mode": "lines+markers",
           "name": "",
           "orientation": "v",
           "showlegend": false,
           "type": "scatter",
           "x": {
            "bdata": "swc=",
            "dtype": "i2"
           },
           "xaxis": "x",
           "y": {
            "bdata": "nAA=",
            "dtype": "i2"
           },
           "yaxis": "y"
          }
         ],
         "name": "1971"
        },
        {
         "data": [
          {
           "hovertemplate": "animation_frame=1972<br>Year=%{x}<br>Launches=%{y}<extra></extra>",
           "ids": {
            "bdata": "tAc=",
            "dtype": "i2"
           },
           "legendgroup": "",
           "line": {
            "color": "#636efa",
            "dash": "solid"
           },
           "marker": {
            "symbol": "circle"
           },
           "mode": "lines+markers",
           "name": "",
           "orientation": "v",
           "showlegend": false,
           "type": "scatter",
           "x": {
            "bdata": "tAc=",
            "dtype": "i2"
           },
           "xaxis": "x",
           "y": {
            "bdata": "hQA=",
            "dtype": "i2"
           },
           "yaxis": "y"
          }
         ],
         "name": "1972"
        },
        {
         "data": [
          {
           "hovertemplate": "animation_frame=1973<br>Year=%{x}<br>Launches=%{y}<extra></extra>",
           "ids": {
            "bdata": "tQc=",
            "dtype": "i2"
           },
           "legendgroup": "",
           "line": {
            "color": "#636efa",
            "dash": "solid"
           },
           "marker": {
            "symbol": "circle"
           },
           "mode": "lines+markers",
           "name": "",
           "orientation": "v",
           "showlegend": false,
           "type": "scatter",
           "x": {
            "bdata": "tQc=",
            "dtype": "i2"
           },
           "xaxis": "x",
           "y": {
            "bdata": "igA=",
            "dtype": "i2"
           },
           "yaxis": "y"
          }
         ],
         "name": "1973"
        },
        {
         "data": [
          {
           "hovertemplate": "animation_frame=1974<br>Year=%{x}<br>Launches=%{y}<extra></extra>",
           "ids": {
            "bdata": "tgc=",
            "dtype": "i2"
           },
           "legendgroup": "",
           "line": {
            "color": "#636efa",
            "dash": "solid"
           },
           "marker": {
            "symbol": "circle"
           },
           "mode": "lines+markers",
           "name": "",
           "orientation": "v",
           "showlegend": false,
           "type": "scatter",
           "x": {
            "bdata": "tgc=",
            "dtype": "i2"
           },
           "xaxis": "x",
           "y": {
            "bdata": "gAA=",
            "dtype": "i2"
           },
           "yaxis": "y"
          }
         ],
         "name": "1974"
        },
        {
         "data": [
          {
           "hovertemplate": "animation_frame=1975<br>Year=%{x}<br>Launches=%{y}<extra></extra>",
           "ids": {
            "bdata": "twc=",
            "dtype": "i2"
           },
           "legendgroup": "",
           "line": {
            "color": "#636efa",
            "dash": "solid"
           },
           "marker": {
            "symbol": "circle"
           },
           "mode": "lines+markers",
           "name": "",
           "orientation": "v",
           "showlegend": false,
           "type": "scatter",
           "x": {
            "bdata": "twc=",
            "dtype": "i2"
           },
           "xaxis": "x",
           "y": {
            "bdata": "ngA=",
            "dtype": "i2"
           },
           "yaxis": "y"
          }
         ],
         "name": "1975"
        },
        {
         "data": [
          {
           "hovertemplate": "animation_frame=1976<br>Year=%{x}<br>Launches=%{y}<extra></extra>",
           "ids": {
            "bdata": "uAc=",
            "dtype": "i2"
           },
           "legendgroup": "",
           "line": {
            "color": "#636efa",
            "dash": "solid"
           },
           "marker": {
            "symbol": "circle"
           },
           "mode": "lines+markers",
           "name": "",
           "orientation": "v",
           "showlegend": false,
           "type": "scatter",
           "x": {
            "bdata": "uAc=",
            "dtype": "i2"
           },
           "xaxis": "x",
           "y": {
            "bdata": "ngA=",
            "dtype": "i2"
           },
           "yaxis": "y"
          }
         ],
         "name": "1976"
        },
        {
         "data": [
          {
           "hovertemplate": "animation_frame=1977<br>Year=%{x}<br>Launches=%{y}<extra></extra>",
           "ids": {
            "bdata": "uQc=",
            "dtype": "i2"
           },
           "legendgroup": "",
           "line": {
            "color": "#636efa",
            "dash": "solid"
           },
           "marker": {
            "symbol": "circle"
           },
           "mode": "lines+markers",
           "name": "",
           "orientation": "v",
           "showlegend": false,
           "type": "scatter",
           "x": {
            "bdata": "uQc=",
            "dtype": "i2"
           },
           "xaxis": "x",
           "y": {
            "bdata": "iQA=",
            "dtype": "i2"
           },
           "yaxis": "y"
          }
         ],
         "name": "1977"
        },
        {
         "data": [
          {
           "hovertemplate": "animation_frame=1978<br>Year=%{x}<br>Launches=%{y}<extra></extra>",
           "ids": {
            "bdata": "ugc=",
            "dtype": "i2"
           },
           "legendgroup": "",
           "line": {
            "color": "#636efa",
            "dash": "solid"
           },
           "marker": {
            "symbol": "circle"
           },
           "mode": "lines+markers",
           "name": "",
           "orientation": "v",
           "showlegend": false,
           "type": "scatter",
           "x": {
            "bdata": "ugc=",
            "dtype": "i2"
           },
           "xaxis": "x",
           "y": {
            "bdata": "pQA=",
            "dtype": "i2"
           },
           "yaxis": "y"
          }
         ],
         "name": "1978"
        },
        {
         "data": [
          {
           "hovertemplate": "animation_frame=1979<br>Year=%{x}<br>Launches=%{y}<extra></extra>",
           "ids": {
            "bdata": "uwc=",
            "dtype": "i2"
           },
           "legendgroup": "",
           "line": {
            "color": "#636efa",
            "dash": "solid"
           },
           "marker": {
            "symbol": "circle"
           },
           "mode": "lines+markers",
           "name": "",
           "orientation": "v",
           "showlegend": false,
           "type": "scatter",
           "x": {
            "bdata": "uwc=",
            "dtype": "i2"
           },
           "xaxis": "x",
           "y": {
            "bdata": "fA==",
            "dtype": "i1"
           },
           "yaxis": "y"
          }
         ],
         "name": "1979"
        },
        {
         "data": [
          {
           "hovertemplate": "animation_frame=1980<br>Year=%{x}<br>Launches=%{y}<extra></extra>",
           "ids": {
            "bdata": "vAc=",
            "dtype": "i2"
           },
           "legendgroup": "",
           "line": {
            "color": "#636efa",
            "dash": "solid"
           },
           "marker": {
            "symbol": "circle"
           },
           "mode": "lines+markers",
           "name": "",
           "orientation": "v",
           "showlegend": false,
           "type": "scatter",
           "x": {
            "bdata": "vAc=",
            "dtype": "i2"
           },
           "xaxis": "x",
           "y": {
            "bdata": "ggA=",
            "dtype": "i2"
           },
           "yaxis": "y"
          }
         ],
         "name": "1980"
        },
        {
         "data": [
          {
           "hovertemplate": "animation_frame=1981<br>Year=%{x}<br>Launches=%{y}<extra></extra>",
           "ids": {
            "bdata": "vQc=",
            "dtype": "i2"
           },
           "legendgroup": "",
           "line": {
            "color": "#636efa",
            "dash": "solid"
           },
           "marker": {
            "symbol": "circle"
           },
           "mode": "lines+markers",
           "name": "",
           "orientation": "v",
           "showlegend": false,
           "type": "scatter",
           "x": {
            "bdata": "vQc=",
            "dtype": "i2"
           },
           "xaxis": "x",
           "y": {
            "bdata": "ngA=",
            "dtype": "i2"
           },
           "yaxis": "y"
          }
         ],
         "name": "1981"
        },
        {
         "data": [
          {
           "hovertemplate": "animation_frame=1982<br>Year=%{x}<br>Launches=%{y}<extra></extra>",
           "ids": {
            "bdata": "vgc=",
            "dtype": "i2"
           },
           "legendgroup": "",
           "line": {
            "color": "#636efa",
            "dash": "solid"
           },
           "marker": {
            "symbol": "circle"
           },
           "mode": "lines+markers",
           "name": "",
           "orientation": "v",
           "showlegend": false,
           "type": "scatter",
           "x": {
            "bdata": "vgc=",
            "dtype": "i2"
           },
           "xaxis": "x",
           "y": {
            "bdata": "kQA=",
            "dtype": "i2"
           },
           "yaxis": "y"
          }
         ],
         "name": "1982"
        },
        {
         "data": [
          {
           "hovertemplate": "animation_frame=1983<br>Year=%{x}<br>Launches=%{y}<extra></extra>",
           "ids": {
            "bdata": "vwc=",
            "dtype": "i2"
           },
           "legendgroup": "",
           "line": {
            "color": "#636efa",
            "dash": "solid"
           },
           "marker": {
            "symbol": "circle"
           },
           "mode": "lines+markers",
           "name": "",
           "orientation": "v",
           "showlegend": false,
           "type": "scatter",
           "x": {
            "bdata": "vwc=",
            "dtype": "i2"
           },
           "xaxis": "x",
           "y": {
            "bdata": "mgA=",
            "dtype": "i2"
           },
           "yaxis": "y"
          }
         ],
         "name": "1983"
        },
        {
         "data": [
          {
           "hovertemplate": "animation_frame=1984<br>Year=%{x}<br>Launches=%{y}<extra></extra>",
           "ids": {
            "bdata": "wAc=",
            "dtype": "i2"
           },
           "legendgroup": "",
           "line": {
            "color": "#636efa",
            "dash": "solid"
           },
           "marker": {
            "symbol": "circle"
           },
           "mode": "lines+markers",
           "name": "",
           "orientation": "v",
           "showlegend": false,
           "type": "scatter",
           "x": {
            "bdata": "wAc=",
            "dtype": "i2"
           },
           "xaxis": "x",
           "y": {
            "bdata": "owA=",
            "dtype": "i2"
           },
           "yaxis": "y"
          }
         ],
         "name": "1984"
        },
        {
         "data": [
          {
           "hovertemplate": "animation_frame=1985<br>Year=%{x}<br>Launches=%{y}<extra></extra>",
           "ids": {
            "bdata": "wQc=",
            "dtype": "i2"
           },
           "legendgroup": "",
           "line": {
            "color": "#636efa",
            "dash": "solid"
           },
           "marker": {
            "symbol": "circle"
           },
           "mode": "lines+markers",
           "name": "",
           "orientation": "v",
           "showlegend": false,
           "type": "scatter",
           "x": {
            "bdata": "wQc=",
            "dtype": "i2"
           },
           "xaxis": "x",
           "y": {
            "bdata": "pQA=",
            "dtype": "i2"
           },
           "yaxis": "y"
          }
         ],
         "name": "1985"
        },
        {
         "data": [
          {
           "hovertemplate": "animation_frame=1986<br>Year=%{x}<br>Launches=%{y}<extra></extra>",
           "ids": {
            "bdata": "wgc=",
            "dtype": "i2"
           },
           "legendgroup": "",
           "line": {
            "color": "#636efa",
            "dash": "solid"
           },
           "marker": {
            "symbol": "circle"
           },
           "mode": "lines+markers",
           "name": "",
           "orientation": "v",
           "showlegend": false,
           "type": "scatter",
           "x": {
            "bdata": "wgc=",
            "dtype": "i2"
           },
           "xaxis": "x",
           "y": {
            "bdata": "hgA=",
            "dtype": "i2"
           },
           "yaxis": "y"
          }
         ],
         "name": "1986"
        },
        {
         "data": [
          {
           "hovertemplate": "animation_frame=1987<br>Year=%{x}<br>Launches=%{y}<extra></extra>",
           "ids": {
            "bdata": "wwc=",
            "dtype": "i2"
           },
           "legendgroup": "",
           "line": {
            "color": "#636efa",
            "dash": "solid"
           },
           "marker": {
            "symbol": "circle"
           },
           "mode": "lines+markers",
           "name": "",
           "orientation": "v",
           "showlegend": false,
           "type": "scatter",
           "x": {
            "bdata": "wwc=",
            "dtype": "i2"
           },
           "xaxis": "x",
           "y": {
            "bdata": "hwA=",
            "dtype": "i2"
           },
           "yaxis": "y"
          }
         ],
         "name": "1987"
        },
        {
         "data": [
          {
           "hovertemplate": "animation_frame=1988<br>Year=%{x}<br>Launches=%{y}<extra></extra>",
           "ids": {
            "bdata": "xAc=",
            "dtype": "i2"
           },
           "legendgroup": "",
           "line": {
            "color": "#636efa",
            "dash": "solid"
           },
           "marker": {
            "symbol": "circle"
           },
           "mode": "lines+markers",
           "name": "",
           "orientation": "v",
           "showlegend": false,
           "type": "scatter",
           "x": {
            "bdata": "xAc=",
            "dtype": "i2"
           },
           "xaxis": "x",
           "y": {
            "bdata": "kQA=",
            "dtype": "i2"
           },
           "yaxis": "y"
          }
         ],
         "name": "1988"
        },
        {
         "data": [
          {
           "hovertemplate": "animation_frame=1989<br>Year=%{x}<br>Launches=%{y}<extra></extra>",
           "ids": {
            "bdata": "xQc=",
            "dtype": "i2"
           },
           "legendgroup": "",
           "line": {
            "color": "#636efa",
            "dash": "solid"
           },
           "marker": {
            "symbol": "circle"
           },
           "mode": "lines+markers",
           "name": "",
           "orientation": "v",
           "showlegend": false,
           "type": "scatter",
           "x": {
            "bdata": "xQc=",
            "dtype": "i2"
           },
           "xaxis": "x",
           "y": {
            "bdata": "iwA=",
            "dtype": "i2"
           },
           "yaxis": "y"
          }
         ],
         "name": "1989"
        },
        {
         "data": [
          {
           "hovertemplate": "animation_frame=1990<br>Year=%{x}<br>Launches=%{y}<extra></extra>",
           "ids": {
            "bdata": "xgc=",
            "dtype": "i2"
           },
           "legendgroup": "",
           "line": {
            "color": "#636efa",
            "dash": "solid"
           },
           "marker": {
            "symbol": "circle"
           },
           "mode": "lines+markers",
           "name": "",
           "orientation": "v",
           "showlegend": false,
           "type": "scatter",
           "x": {
            "bdata": "xgc=",
            "dtype": "i2"
           },
           "xaxis": "x",
           "y": {
            "bdata": "qgA=",
            "dtype": "i2"
           },
           "yaxis": "y"
          }
         ],
         "name": "1990"
        },
        {
         "data": [
          {
           "hovertemplate": "animation_frame=1991<br>Year=%{x}<br>Launches=%{y}<extra></extra>",
           "ids": {
            "bdata": "xwc=",
            "dtype": "i2"
           },
           "legendgroup": "",
           "line": {
            "color": "#636efa",
            "dash": "solid"
           },
           "marker": {
            "symbol": "circle"
           },
           "mode": "lines+markers",
           "name": "",
           "orientation": "v",
           "showlegend": false,
           "type": "scatter",
           "x": {
            "bdata": "xwc=",
            "dtype": "i2"
           },
           "xaxis": "x",
           "y": {
            "bdata": "iQA=",
            "dtype": "i2"
           },
           "yaxis": "y"
          }
         ],
         "name": "1991"
        },
        {
         "data": [
          {
           "hovertemplate": "animation_frame=1992<br>Year=%{x}<br>Launches=%{y}<extra></extra>",
           "ids": {
            "bdata": "yAc=",
            "dtype": "i2"
           },
           "legendgroup": "",
           "line": {
            "color": "#636efa",
            "dash": "solid"
           },
           "marker": {
            "symbol": "circle"
           },
           "mode": "lines+markers",
           "name": "",
           "orientation": "v",
           "showlegend": false,
           "type": "scatter",
           "x": {
            "bdata": "yAc=",
            "dtype": "i2"
           },
           "xaxis": "x",
           "y": {
            "bdata": "ggA=",
            "dtype": "i2"
           },
           "yaxis": "y"
          }
         ],
         "name": "1992"
        },
        {
         "data": [
          {
           "hovertemplate": "animation_frame=1993<br>Year=%{x}<br>Launches=%{y}<extra></extra>",
           "ids": {
            "bdata": "yQc=",
            "dtype": "i2"
           },
           "legendgroup": "",
           "line": {
            "color": "#636efa",
            "dash": "solid"
           },
           "marker": {
            "symbol": "circle"
           },
           "mode": "lines+markers",
           "name": "",
           "orientation": "v",
           "showlegend": false,
           "type": "scatter",
           "x": {
            "bdata": "yQc=",
            "dtype": "i2"
           },
           "xaxis": "x",
           "y": {
            "bdata": "bA==",
            "dtype": "i1"
           },
           "yaxis": "y"
          }
         ],
         "name": "1993"
        },
        {
         "data": [
          {
           "hovertemplate": "animation_frame=1994<br>Year=%{x}<br>Launches=%{y}<extra></extra>",
           "ids": {
            "bdata": "ygc=",
            "dtype": "i2"
           },
           "legendgroup": "",
           "line": {
            "color": "#636efa",
            "dash": "solid"
           },
           "marker": {
            "symbol": "circle"
           },
           "mode": "lines+markers",
           "name": "",
           "orientation": "v",
           "showlegend": false,
           "type": "scatter",
           "x": {
            "bdata": "ygc=",
            "dtype": "i2"
           },
           "xaxis": "x",
           "y": {
            "bdata": "ew==",
            "dtype": "i1"
           },
           "yaxis": "y"
          }
         ],
         "name": "1994"
        },
        {
         "data": [
          {
           "hovertemplate": "animation_frame=1995<br>Year=%{x}<br>Launches=%{y}<extra></extra>",
           "ids": {
            "bdata": "ywc=",
            "dtype": "i2"
           },
           "legendgroup": "",
           "line": {
            "color": "#636efa",
            "dash": "solid"
           },
           "marker": {
            "symbol": "circle"
           },
           "mode": "lines+markers",
           "name": "",
           "orientation": "v",
           "showlegend": false,
           "type": "scatter",
           "x": {
            "bdata": "ywc=",
            "dtype": "i2"
           },
           "xaxis": "x",
           "y": {
            "bdata": "aQ==",
            "dtype": "i1"
           },
           "yaxis": "y"
          }
         ],
         "name": "1995"
        },
        {
         "data": [
          {
           "hovertemplate": "animation_frame=1996<br>Year=%{x}<br>Launches=%{y}<extra></extra>",
           "ids": {
            "bdata": "zAc=",
            "dtype": "i2"
           },
           "legendgroup": "",
           "line": {
            "color": "#636efa",
            "dash": "solid"
           },
           "marker": {
            "symbol": "circle"
           },
           "mode": "lines+markers",
           "name": "",
           "orientation": "v",
           "showlegend": false,
           "type": "scatter",
           "x": {
            "bdata": "zAc=",
            "dtype": "i2"
           },
           "xaxis": "x",
           "y": {
            "bdata": "ZA==",
            "dtype": "i1"
           },
           "yaxis": "y"
          }
         ],
         "name": "1996"
        },
        {
         "data": [
          {
           "hovertemplate": "animation_frame=1997<br>Year=%{x}<br>Launches=%{y}<extra></extra>",
           "ids": {
            "bdata": "zQc=",
            "dtype": "i2"
           },
           "legendgroup": "",
           "line": {
            "color": "#636efa",
            "dash": "solid"
           },
           "marker": {
            "symbol": "circle"
           },
           "mode": "lines+markers",
           "name": "",
           "orientation": "v",
           "showlegend": false,
           "type": "scatter",
           "x": {
            "bdata": "zQc=",
            "dtype": "i2"
           },
           "xaxis": "x",
           "y": {
            "bdata": "mAA=",
            "dtype": "i2"
           },
           "yaxis": "y"
          }
         ],
         "name": "1997"
        },
        {
         "data": [
          {
           "hovertemplate": "animation_frame=1998<br>Year=%{x}<br>Launches=%{y}<extra></extra>",
           "ids": {
            "bdata": "zgc=",
            "dtype": "i2"
           },
           "legendgroup": "",
           "line": {
            "color": "#636efa",
            "dash": "solid"
           },
           "marker": {
            "symbol": "circle"
           },
           "mode": "lines+markers",
           "name": "",
           "orientation": "v",
           "showlegend": false,
           "type": "scatter",
           "x": {
            "bdata": "zgc=",
            "dtype": "i2"
           },
           "xaxis": "x",
           "y": {
            "bdata": "nQA=",
            "dtype": "i2"
           },
           "yaxis": "y"
          }
         ],
         "name": "1998"
        },
        {
         "data": [
          {
           "hovertemplate": "animation_frame=1999<br>Year=%{x}<br>Launches=%{y}<extra></extra>",
           "ids": {
            "bdata": "zwc=",
            "dtype": "i2"
           },
           "legendgroup": "",
           "line": {
            "color": "#636efa",
            "dash": "solid"
           },
           "marker": {
            "symbol": "circle"
           },
           "mode": "lines+markers",
           "name": "",
           "orientation": "v",
           "showlegend": false,
           "type": "scatter",
           "x": {
            "bdata": "zwc=",
            "dtype": "i2"
           },
           "xaxis": "x",
           "y": {
            "bdata": "gQA=",
            "dtype": "i2"
           },
           "yaxis": "y"
          }
         ],
         "name": "1999"
        },
        {
         "data": [
          {
           "hovertemplate": "animation_frame=2000<br>Year=%{x}<br>Launches=%{y}<extra></extra>",
           "ids": {
            "bdata": "0Ac=",
            "dtype": "i2"
           },
           "legendgroup": "",
           "line": {
            "color": "#636efa",
            "dash": "solid"
           },
           "marker": {
            "symbol": "circle"
           },
           "mode": "lines+markers",
           "name": "",
           "orientation": "v",
           "showlegend": false,
           "type": "scatter",
           "x": {
            "bdata": "0Ac=",
            "dtype": "i2"
           },
           "xaxis": "x",
           "y": {
            "bdata": "eQ==",
            "dtype": "i1"
           },
           "yaxis": "y"
          }
         ],
         "name": "2000"
        },
        {
         "data": [
          {
           "hovertemplate": "animation_frame=2001<br>Year=%{x}<br>Launches=%{y}<extra></extra>",
           "ids": {
            "bdata": "0Qc=",
            "dtype": "i2"
           },
           "legendgroup": "",
           "line": {
            "color": "#636efa",
            "dash": "solid"
           },
           "marker": {
            "symbol": "circle"
           },
           "mode": "lines+markers",
           "name": "",
           "orientation": "v",
           "showlegend": false,
           "type": "scatter",
           "x": {
            "bdata": "0Qc=",
            "dtype": "i2"
           },
           "xaxis": "x",
           "y": {
            "bdata": "Vg==",
            "dtype": "i1"
           },
           "yaxis": "y"
          }
         ],
         "name": "2001"
        },
        {
         "data": [
          {
           "hovertemplate": "animation_frame=2002<br>Year=%{x}<br>Launches=%{y}<extra></extra>",
           "ids": {
            "bdata": "0gc=",
            "dtype": "i2"
           },
           "legendgroup": "",
           "line": {
            "color": "#636efa",
            "dash": "solid"
           },
           "marker": {
            "symbol": "circle"
           },
           "mode": "lines+markers",
           "name": "",
           "orientation": "v",
           "showlegend": false,
           "type": "scatter",
           "x": {
            "bdata": "0gc=",
            "dtype": "i2"
           },
           "xaxis": "x",
           "y": {
            "bdata": "YA==",
            "dtype": "i1"
           },
           "yaxis": "y"
          }
         ],
         "name": "2002"
        },
        {
         "data": [
          {
           "hovertemplate": "animation_frame=2003<br>Year=%{x}<br>Launches=%{y}<extra></extra>",
           "ids": {
            "bdata": "0wc=",
            "dtype": "i2"
           },
           "legendgroup": "",
           "line": {
            "color": "#636efa",
            "dash": "solid"
           },
           "marker": {
            "symbol": "circle"
           },
           "mode": "lines+markers",
           "name": "",
           "orientation": "v",
           "showlegend": false,
           "type": "scatter",
           "x": {
            "bdata": "0wc=",
            "dtype": "i2"
           },
           "xaxis": "x",
           "y": {
            "bdata": "WA==",
            "dtype": "i1"
           },
           "yaxis": "y"
          }
         ],
         "name": "2003"
        },
        {
         "data": [
          {
           "hovertemplate": "animation_frame=2004<br>Year=%{x}<br>Launches=%{y}<extra></extra>",
           "ids": {
            "bdata": "1Ac=",
            "dtype": "i2"
           },
           "legendgroup": "",
           "line": {
            "color": "#636efa",
            "dash": "solid"
           },
           "marker": {
            "symbol": "circle"
           },
           "mode": "lines+markers",
           "name": "",
           "orientation": "v",
           "showlegend": false,
           "type": "scatter",
           "x": {
            "bdata": "1Ac=",
            "dtype": "i2"
           },
           "xaxis": "x",
           "y": {
            "bdata": "Sg==",
            "dtype": "i1"
           },
           "yaxis": "y"
          }
         ],
         "name": "2004"
        },
        {
         "data": [
          {
           "hovertemplate": "animation_frame=2005<br>Year=%{x}<br>Launches=%{y}<extra></extra>",
           "ids": {
            "bdata": "1Qc=",
            "dtype": "i2"
           },
           "legendgroup": "",
           "line": {
            "color": "#636efa",
            "dash": "solid"
           },
           "marker": {
            "symbol": "circle"
           },
           "mode": "lines+markers",
           "name": "",
           "orientation": "v",
           "showlegend": false,
           "type": "scatter",
           "x": {
            "bdata": "1Qc=",
            "dtype": "i2"
           },
           "xaxis": "x",
           "y": {
            "bdata": "SA==",
            "dtype": "i1"
           },
           "yaxis": "y"
          }
         ],
         "name": "2005"
        },
        {
         "data": [
          {
           "hovertemplate": "animation_frame=2006<br>Year=%{x}<br>Launches=%{y}<extra></extra>",
           "ids": {
            "bdata": "1gc=",
            "dtype": "i2"
           },
           "legendgroup": "",
           "line": {
            "color": "#636efa",
            "dash": "solid"
           },
           "marker": {
            "symbol": "circle"
           },
           "mode": "lines+markers",
           "name": "",
           "orientation": "v",
           "showlegend": false,
           "type": "scatter",
           "x": {
            "bdata": "1gc=",
            "dtype": "i2"
           },
           "xaxis": "x",
           "y": {
            "bdata": "Xw==",
            "dtype": "i1"
           },
           "yaxis": "y"
          }
         ],
         "name": "2006"
        },
        {
         "data": [
          {
           "hovertemplate": "animation_frame=2007<br>Year=%{x}<br>Launches=%{y}<extra></extra>",
           "ids": {
            "bdata": "1wc=",
            "dtype": "i2"
           },
           "legendgroup": "",
           "line": {
            "color": "#636efa",
            "dash": "solid"
           },
           "marker": {
            "symbol": "circle"
           },
           "mode": "lines+markers",
           "name": "",
           "orientation": "v",
           "showlegend": false,
           "type": "scatter",
           "x": {
            "bdata": "1wc=",
            "dtype": "i2"
           },
           "xaxis": "x",
           "y": {
            "bdata": "bw==",
            "dtype": "i1"
           },
           "yaxis": "y"
          }
         ],
         "name": "2007"
        },
        {
         "data": [
          {
           "hovertemplate": "animation_frame=2008<br>Year=%{x}<br>Launches=%{y}<extra></extra>",
           "ids": {
            "bdata": "2Ac=",
            "dtype": "i2"
           },
           "legendgroup": "",
           "line": {
            "color": "#636efa",
            "dash": "solid"
           },
           "marker": {
            "symbol": "circle"
           },
           "mode": "lines+markers",
           "name": "",
           "orientation": "v",
           "showlegend": false,
           "type": "scatter",
           "x": {
            "bdata": "2Ac=",
            "dtype": "i2"
           },
           "xaxis": "x",
           "y": {
            "bdata": "bQ==",
            "dtype": "i1"
           },
           "yaxis": "y"
          }
         ],
         "name": "2008"
        },
        {
         "data": [
          {
           "hovertemplate": "animation_frame=2009<br>Year=%{x}<br>Launches=%{y}<extra></extra>",
           "ids": {
            "bdata": "2Qc=",
            "dtype": "i2"
           },
           "legendgroup": "",
           "line": {
            "color": "#636efa",
            "dash": "solid"
           },
           "marker": {
            "symbol": "circle"
           },
           "mode": "lines+markers",
           "name": "",
           "orientation": "v",
           "showlegend": false,
           "type": "scatter",
           "x": {
            "bdata": "2Qc=",
            "dtype": "i2"
           },
           "xaxis": "x",
           "y": {
            "bdata": "fQ==",
            "dtype": "i1"
           },
           "yaxis": "y"
          }
         ],
         "name": "2009"
        },
        {
         "data": [
          {
           "hovertemplate": "animation_frame=2010<br>Year=%{x}<br>Launches=%{y}<extra></extra>",
           "ids": {
            "bdata": "2gc=",
            "dtype": "i2"
           },
           "legendgroup": "",
           "line": {
            "color": "#636efa",
            "dash": "solid"
           },
           "marker": {
            "symbol": "circle"
           },
           "mode": "lines+markers",
           "name": "",
           "orientation": "v",
           "showlegend": false,
           "type": "scatter",
           "x": {
            "bdata": "2gc=",
            "dtype": "i2"
           },
           "xaxis": "x",
           "y": {
            "bdata": "eQ==",
            "dtype": "i1"
           },
           "yaxis": "y"
          }
         ],
         "name": "2010"
        },
        {
         "data": [
          {
           "hovertemplate": "animation_frame=2011<br>Year=%{x}<br>Launches=%{y}<extra></extra>",
           "ids": {
            "bdata": "2wc=",
            "dtype": "i2"
           },
           "legendgroup": "",
           "line": {
            "color": "#636efa",
            "dash": "solid"
           },
           "marker": {
            "symbol": "circle"
           },
           "mode": "lines+markers",
           "name": "",
           "orientation": "v",
           "showlegend": false,
           "type": "scatter",
           "x": {
            "bdata": "2wc=",
            "dtype": "i2"
           },
           "xaxis": "x",
           "y": {
            "bdata": "gQA=",
            "dtype": "i2"
           },
           "yaxis": "y"
          }
         ],
         "name": "2011"
        },
        {
         "data": [
          {
           "hovertemplate": "animation_frame=2012<br>Year=%{x}<br>Launches=%{y}<extra></extra>",
           "ids": {
            "bdata": "3Ac=",
            "dtype": "i2"
           },
           "legendgroup": "",
           "line": {
            "color": "#636efa",
            "dash": "solid"
           },
           "marker": {
            "symbol": "circle"
           },
           "mode": "lines+markers",
           "name": "",
           "orientation": "v",
           "showlegend": false,
           "type": "scatter",
           "x": {
            "bdata": "3Ac=",
            "dtype": "i2"
           },
           "xaxis": "x",
           "y": {
            "bdata": "hgA=",
            "dtype": "i2"
           },
           "yaxis": "y"
          }
         ],
         "name": "2012"
        },
        {
         "data": [
          {
           "hovertemplate": "animation_frame=2013<br>Year=%{x}<br>Launches=%{y}<extra></extra>",
           "ids": {
            "bdata": "3Qc=",
            "dtype": "i2"
           },
           "legendgroup": "",
           "line": {
            "color": "#636efa",
            "dash": "solid"
           },
           "marker": {
            "symbol": "circle"
           },
           "mode": "lines+markers",
           "name": "",
           "orientation": "v",
           "showlegend": false,
           "type": "scatter",
           "x": {
            "bdata": "3Qc=",
            "dtype": "i2"
           },
           "xaxis": "x",
           "y": {
            "bdata": "0gA=",
            "dtype": "i2"
           },
           "yaxis": "y"
          }
         ],
         "name": "2013"
        },
        {
         "data": [
          {
           "hovertemplate": "animation_frame=2014<br>Year=%{x}<br>Launches=%{y}<extra></extra>",
           "ids": {
            "bdata": "3gc=",
            "dtype": "i2"
           },
           "legendgroup": "",
           "line": {
            "color": "#636efa",
            "dash": "solid"
           },
           "marker": {
            "symbol": "circle"
           },
           "mode": "lines+markers",
           "name": "",
           "orientation": "v",
           "showlegend": false,
           "type": "scatter",
           "x": {
            "bdata": "3gc=",
            "dtype": "i2"
           },
           "xaxis": "x",
           "y": {
            "bdata": "8QA=",
            "dtype": "i2"
           },
           "yaxis": "y"
          }
         ],
         "name": "2014"
        },
        {
         "data": [
          {
           "hovertemplate": "animation_frame=2015<br>Year=%{x}<br>Launches=%{y}<extra></extra>",
           "ids": {
            "bdata": "3wc=",
            "dtype": "i2"
           },
           "legendgroup": "",
           "line": {
            "color": "#636efa",
            "dash": "solid"
           },
           "marker": {
            "symbol": "circle"
           },
           "mode": "lines+markers",
           "name": "",
           "orientation": "v",
           "showlegend": false,
           "type": "scatter",
           "x": {
            "bdata": "3wc=",
            "dtype": "i2"
           },
           "xaxis": "x",
           "y": {
            "bdata": "3gA=",
            "dtype": "i2"
           },
           "yaxis": "y"
          }
         ],
         "name": "2015"
        },
        {
         "data": [
          {
           "hovertemplate": "animation_frame=2016<br>Year=%{x}<br>Launches=%{y}<extra></extra>",
           "ids": {
            "bdata": "4Ac=",
            "dtype": "i2"
           },
           "legendgroup": "",
           "line": {
            "color": "#636efa",
            "dash": "solid"
           },
           "marker": {
            "symbol": "circle"
           },
           "mode": "lines+markers",
           "name": "",
           "orientation": "v",
           "showlegend": false,
           "type": "scatter",
           "x": {
            "bdata": "4Ac=",
            "dtype": "i2"
           },
           "xaxis": "x",
           "y": {
            "bdata": "3QA=",
            "dtype": "i2"
           },
           "yaxis": "y"
          }
         ],
         "name": "2016"
        },
        {
         "data": [
          {
           "hovertemplate": "animation_frame=2017<br>Year=%{x}<br>Launches=%{y}<extra></extra>",
           "ids": {
            "bdata": "4Qc=",
            "dtype": "i2"
           },
           "legendgroup": "",
           "line": {
            "color": "#636efa",
            "dash": "solid"
           },
           "marker": {
            "symbol": "circle"
           },
           "mode": "lines+markers",
           "name": "",
           "orientation": "v",
           "showlegend": false,
           "type": "scatter",
           "x": {
            "bdata": "4Qc=",
            "dtype": "i2"
           },
           "xaxis": "x",
           "y": {
            "bdata": "yAE=",
            "dtype": "i2"
           },
           "yaxis": "y"
          }
         ],
         "name": "2017"
        },
        {
         "data": [
          {
           "hovertemplate": "animation_frame=2018<br>Year=%{x}<br>Launches=%{y}<extra></extra>",
           "ids": {
            "bdata": "4gc=",
            "dtype": "i2"
           },
           "legendgroup": "",
           "line": {
            "color": "#636efa",
            "dash": "solid"
           },
           "marker": {
            "symbol": "circle"
           },
           "mode": "lines+markers",
           "name": "",
           "orientation": "v",
           "showlegend": false,
           "type": "scatter",
           "x": {
            "bdata": "4gc=",
            "dtype": "i2"
           },
           "xaxis": "x",
           "y": {
            "bdata": "xAE=",
            "dtype": "i2"
           },
           "yaxis": "y"
          }
         ],
         "name": "2018"
        },
        {
         "data": [
          {
           "hovertemplate": "animation_frame=2019<br>Year=%{x}<br>Launches=%{y}<extra></extra>",
           "ids": {
            "bdata": "4wc=",
            "dtype": "i2"
           },
           "legendgroup": "",
           "line": {
            "color": "#636efa",
            "dash": "solid"
           },
           "marker": {
            "symbol": "circle"
           },
           "mode": "lines+markers",
           "name": "",
           "orientation": "v",
           "showlegend": false,
           "type": "scatter",
           "x": {
            "bdata": "4wc=",
            "dtype": "i2"
           },
           "xaxis": "x",
           "y": {
            "bdata": "SgI=",
            "dtype": "i2"
           },
           "yaxis": "y"
          }
         ],
         "name": "2019"
        },
        {
         "data": [
          {
           "hovertemplate": "animation_frame=2020<br>Year=%{x}<br>Launches=%{y}<extra></extra>",
           "ids": {
            "bdata": "5Ac=",
            "dtype": "i2"
           },
           "legendgroup": "",
           "line": {
            "color": "#636efa",
            "dash": "solid"
           },
           "marker": {
            "symbol": "circle"
           },
           "mode": "lines+markers",
           "name": "",
           "orientation": "v",
           "showlegend": false,
           "type": "scatter",
           "x": {
            "bdata": "5Ac=",
            "dtype": "i2"
           },
           "xaxis": "x",
           "y": {
            "bdata": "+gQ=",
            "dtype": "i2"
           },
           "yaxis": "y"
          }
         ],
         "name": "2020"
        },
        {
         "data": [
          {
           "hovertemplate": "animation_frame=2021<br>Year=%{x}<br>Launches=%{y}<extra></extra>",
           "ids": {
            "bdata": "5Qc=",
            "dtype": "i2"
           },
           "legendgroup": "",
           "line": {
            "color": "#636efa",
            "dash": "solid"
           },
           "marker": {
            "symbol": "circle"
           },
           "mode": "lines+markers",
           "name": "",
           "orientation": "v",
           "showlegend": false,
           "type": "scatter",
           "x": {
            "bdata": "5Qc=",
            "dtype": "i2"
           },
           "xaxis": "x",
           "y": {
            "bdata": "Fgc=",
            "dtype": "i2"
           },
           "yaxis": "y"
          }
         ],
         "name": "2021"
        },
        {
         "data": [
          {
           "hovertemplate": "animation_frame=2022<br>Year=%{x}<br>Launches=%{y}<extra></extra>",
           "ids": {
            "bdata": "5gc=",
            "dtype": "i2"
           },
           "legendgroup": "",
           "line": {
            "color": "#636efa",
            "dash": "solid"
           },
           "marker": {
            "symbol": "circle"
           },
           "mode": "lines+markers",
           "name": "",
           "orientation": "v",
           "showlegend": false,
           "type": "scatter",
           "x": {
            "bdata": "5gc=",
            "dtype": "i2"
           },
           "xaxis": "x",
           "y": {
            "bdata": "rQk=",
            "dtype": "i2"
           },
           "yaxis": "y"
          }
         ],
         "name": "2022"
        },
        {
         "data": [
          {
           "hovertemplate": "animation_frame=2023<br>Year=%{x}<br>Launches=%{y}<extra></extra>",
           "ids": {
            "bdata": "5wc=",
            "dtype": "i2"
           },
           "legendgroup": "",
           "line": {
            "color": "#636efa",
            "dash": "solid"
           },
           "marker": {
            "symbol": "circle"
           },
           "mode": "lines+markers",
           "name": "",
           "orientation": "v",
           "showlegend": false,
           "type": "scatter",
           "x": {
            "bdata": "5wc=",
            "dtype": "i2"
           },
           "xaxis": "x",
           "y": {
            "bdata": "Ugs=",
            "dtype": "i2"
           },
           "yaxis": "y"
          }
         ],
         "name": "2023"
        },
        {
         "data": [
          {
           "hovertemplate": "animation_frame=2024<br>Year=%{x}<br>Launches=%{y}<extra></extra>",
           "ids": {
            "bdata": "6Ac=",
            "dtype": "i2"
           },
           "legendgroup": "",
           "line": {
            "color": "#636efa",
            "dash": "solid"
           },
           "marker": {
            "symbol": "circle"
           },
           "mode": "lines+markers",
           "name": "",
           "orientation": "v",
           "showlegend": false,
           "type": "scatter",
           "x": {
            "bdata": "6Ac=",
            "dtype": "i2"
           },
           "xaxis": "x",
           "y": {
            "bdata": "IQs=",
            "dtype": "i2"
           },
           "yaxis": "y"
          }
         ],
         "name": "2024"
        }
       ],
       "layout": {
        "legend": {
         "tracegroupgap": 0
        },
        "paper_bgcolor": "rgba(0,0,0,0)",
        "plot_bgcolor": "rgba(0,0,0,0)",
        "sliders": [
         {
          "active": 0,
          "currentvalue": {
           "prefix": "animation_frame="
          },
          "len": 0.9,
          "pad": {
           "b": 10,
           "t": 60
          },
          "steps": [
           {
            "args": [
             [
              "1957"
             ],
             {
              "frame": {
               "duration": 0,
               "redraw": false
              },
              "fromcurrent": true,
              "mode": "immediate",
              "transition": {
               "duration": 0,
               "easing": "linear"
              }
             }
            ],
            "label": "1957",
            "method": "animate"
           },
           {
            "args": [
             [
              "1958"
             ],
             {
              "frame": {
               "duration": 0,
               "redraw": false
              },
              "fromcurrent": true,
              "mode": "immediate",
              "transition": {
               "duration": 0,
               "easing": "linear"
              }
             }
            ],
            "label": "1958",
            "method": "animate"
           },
           {
            "args": [
             [
              "1959"
             ],
             {
              "frame": {
               "duration": 0,
               "redraw": false
              },
              "fromcurrent": true,
              "mode": "immediate",
              "transition": {
               "duration": 0,
               "easing": "linear"
              }
             }
            ],
            "label": "1959",
            "method": "animate"
           },
           {
            "args": [
             [
              "1960"
             ],
             {
              "frame": {
               "duration": 0,
               "redraw": false
              },
              "fromcurrent": true,
              "mode": "immediate",
              "transition": {
               "duration": 0,
               "easing": "linear"
              }
             }
            ],
            "label": "1960",
            "method": "animate"
           },
           {
            "args": [
             [
              "1961"
             ],
             {
              "frame": {
               "duration": 0,
               "redraw": false
              },
              "fromcurrent": true,
              "mode": "immediate",
              "transition": {
               "duration": 0,
               "easing": "linear"
              }
             }
            ],
            "label": "1961",
            "method": "animate"
           },
           {
            "args": [
             [
              "1962"
             ],
             {
              "frame": {
               "duration": 0,
               "redraw": false
              },
              "fromcurrent": true,
              "mode": "immediate",
              "transition": {
               "duration": 0,
               "easing": "linear"
              }
             }
            ],
            "label": "1962",
            "method": "animate"
           },
           {
            "args": [
             [
              "1963"
             ],
             {
              "frame": {
               "duration": 0,
               "redraw": false
              },
              "fromcurrent": true,
              "mode": "immediate",
              "transition": {
               "duration": 0,
               "easing": "linear"
              }
             }
            ],
            "label": "1963",
            "method": "animate"
           },
           {
            "args": [
             [
              "1964"
             ],
             {
              "frame": {
               "duration": 0,
               "redraw": false
              },
              "fromcurrent": true,
              "mode": "immediate",
              "transition": {
               "duration": 0,
               "easing": "linear"
              }
             }
            ],
            "label": "1964",
            "method": "animate"
           },
           {
            "args": [
             [
              "1965"
             ],
             {
              "frame": {
               "duration": 0,
               "redraw": false
              },
              "fromcurrent": true,
              "mode": "immediate",
              "transition": {
               "duration": 0,
               "easing": "linear"
              }
             }
            ],
            "label": "1965",
            "method": "animate"
           },
           {
            "args": [
             [
              "1966"
             ],
             {
              "frame": {
               "duration": 0,
               "redraw": false
              },
              "fromcurrent": true,
              "mode": "immediate",
              "transition": {
               "duration": 0,
               "easing": "linear"
              }
             }
            ],
            "label": "1966",
            "method": "animate"
           },
           {
            "args": [
             [
              "1967"
             ],
             {
              "frame": {
               "duration": 0,
               "redraw": false
              },
              "fromcurrent": true,
              "mode": "immediate",
              "transition": {
               "duration": 0,
               "easing": "linear"
              }
             }
            ],
            "label": "1967",
            "method": "animate"
           },
           {
            "args": [
             [
              "1968"
             ],
             {
              "frame": {
               "duration": 0,
               "redraw": false
              },
              "fromcurrent": true,
              "mode": "immediate",
              "transition": {
               "duration": 0,
               "easing": "linear"
              }
             }
            ],
            "label": "1968",
            "method": "animate"
           },
           {
            "args": [
             [
              "1969"
             ],
             {
              "frame": {
               "duration": 0,
               "redraw": false
              },
              "fromcurrent": true,
              "mode": "immediate",
              "transition": {
               "duration": 0,
               "easing": "linear"
              }
             }
            ],
            "label": "1969",
            "method": "animate"
           },
           {
            "args": [
             [
              "1970"
             ],
             {
              "frame": {
               "duration": 0,
               "redraw": false
              },
              "fromcurrent": true,
              "mode": "immediate",
              "transition": {
               "duration": 0,
               "easing": "linear"
              }
             }
            ],
            "label": "1970",
            "method": "animate"
           },
           {
            "args": [
             [
              "1971"
             ],
             {
              "frame": {
               "duration": 0,
               "redraw": false
              },
              "fromcurrent": true,
              "mode": "immediate",
              "transition": {
               "duration": 0,
               "easing": "linear"
              }
             }
            ],
            "label": "1971",
            "method": "animate"
           },
           {
            "args": [
             [
              "1972"
             ],
             {
              "frame": {
               "duration": 0,
               "redraw": false
              },
              "fromcurrent": true,
              "mode": "immediate",
              "transition": {
               "duration": 0,
               "easing": "linear"
              }
             }
            ],
            "label": "1972",
            "method": "animate"
           },
           {
            "args": [
             [
              "1973"
             ],
             {
              "frame": {
               "duration": 0,
               "redraw": false
              },
              "fromcurrent": true,
              "mode": "immediate",
              "transition": {
               "duration": 0,
               "easing": "linear"
              }
             }
            ],
            "label": "1973",
            "method": "animate"
           },
           {
            "args": [
             [
              "1974"
             ],
             {
              "frame": {
               "duration": 0,
               "redraw": false
              },
              "fromcurrent": true,
              "mode": "immediate",
              "transition": {
               "duration": 0,
               "easing": "linear"
              }
             }
            ],
            "label": "1974",
            "method": "animate"
           },
           {
            "args": [
             [
              "1975"
             ],
             {
              "frame": {
               "duration": 0,
               "redraw": false
              },
              "fromcurrent": true,
              "mode": "immediate",
              "transition": {
               "duration": 0,
               "easing": "linear"
              }
             }
            ],
            "label": "1975",
            "method": "animate"
           },
           {
            "args": [
             [
              "1976"
             ],
             {
              "frame": {
               "duration": 0,
               "redraw": false
              },
              "fromcurrent": true,
              "mode": "immediate",
              "transition": {
               "duration": 0,
               "easing": "linear"
              }
             }
            ],
            "label": "1976",
            "method": "animate"
           },
           {
            "args": [
             [
              "1977"
             ],
             {
              "frame": {
               "duration": 0,
               "redraw": false
              },
              "fromcurrent": true,
              "mode": "immediate",
              "transition": {
               "duration": 0,
               "easing": "linear"
              }
             }
            ],
            "label": "1977",
            "method": "animate"
           },
           {
            "args": [
             [
              "1978"
             ],
             {
              "frame": {
               "duration": 0,
               "redraw": false
              },
              "fromcurrent": true,
              "mode": "immediate",
              "transition": {
               "duration": 0,
               "easing": "linear"
              }
             }
            ],
            "label": "1978",
            "method": "animate"
           },
           {
            "args": [
             [
              "1979"
             ],
             {
              "frame": {
               "duration": 0,
               "redraw": false
              },
              "fromcurrent": true,
              "mode": "immediate",
              "transition": {
               "duration": 0,
               "easing": "linear"
              }
             }
            ],
            "label": "1979",
            "method": "animate"
           },
           {
            "args": [
             [
              "1980"
             ],
             {
              "frame": {
               "duration": 0,
               "redraw": false
              },
              "fromcurrent": true,
              "mode": "immediate",
              "transition": {
               "duration": 0,
               "easing": "linear"
              }
             }
            ],
            "label": "1980",
            "method": "animate"
           },
           {
            "args": [
             [
              "1981"
             ],
             {
              "frame": {
               "duration": 0,
               "redraw": false
              },
              "fromcurrent": true,
              "mode": "immediate",
              "transition": {
               "duration": 0,
               "easing": "linear"
              }
             }
            ],
            "label": "1981",
            "method": "animate"
           },
           {
            "args": [
             [
              "1982"
             ],
             {
              "frame": {
               "duration": 0,
               "redraw": false
              },
              "fromcurrent": true,
              "mode": "immediate",
              "transition": {
               "duration": 0,
               "easing": "linear"
              }
             }
            ],
            "label": "1982",
            "method": "animate"
           },
           {
            "args": [
             [
              "1983"
             ],
             {
              "frame": {
               "duration": 0,
               "redraw": false
              },
              "fromcurrent": true,
              "mode": "immediate",
              "transition": {
               "duration": 0,
               "easing": "linear"
              }
             }
            ],
            "label": "1983",
            "method": "animate"
           },
           {
            "args": [
             [
              "1984"
             ],
             {
              "frame": {
               "duration": 0,
               "redraw": false
              },
              "fromcurrent": true,
              "mode": "immediate",
              "transition": {
               "duration": 0,
               "easing": "linear"
              }
             }
            ],
            "label": "1984",
            "method": "animate"
           },
           {
            "args": [
             [
              "1985"
             ],
             {
              "frame": {
               "duration": 0,
               "redraw": false
              },
              "fromcurrent": true,
              "mode": "immediate",
              "transition": {
               "duration": 0,
               "easing": "linear"
              }
             }
            ],
            "label": "1985",
            "method": "animate"
           },
           {
            "args": [
             [
              "1986"
             ],
             {
              "frame": {
               "duration": 0,
               "redraw": false
              },
              "fromcurrent": true,
              "mode": "immediate",
              "transition": {
               "duration": 0,
               "easing": "linear"
              }
             }
            ],
            "label": "1986",
            "method": "animate"
           },
           {
            "args": [
             [
              "1987"
             ],
             {
              "frame": {
               "duration": 0,
               "redraw": false
              },
              "fromcurrent": true,
              "mode": "immediate",
              "transition": {
               "duration": 0,
               "easing": "linear"
              }
             }
            ],
            "label": "1987",
            "method": "animate"
           },
           {
            "args": [
             [
              "1988"
             ],
             {
              "frame": {
               "duration": 0,
               "redraw": false
              },
              "fromcurrent": true,
              "mode": "immediate",
              "transition": {
               "duration": 0,
               "easing": "linear"
              }
             }
            ],
            "label": "1988",
            "method": "animate"
           },
           {
            "args": [
             [
              "1989"
             ],
             {
              "frame": {
               "duration": 0,
               "redraw": false
              },
              "fromcurrent": true,
              "mode": "immediate",
              "transition": {
               "duration": 0,
               "easing": "linear"
              }
             }
            ],
            "label": "1989",
            "method": "animate"
           },
           {
            "args": [
             [
              "1990"
             ],
             {
              "frame": {
               "duration": 0,
               "redraw": false
              },
              "fromcurrent": true,
              "mode": "immediate",
              "transition": {
               "duration": 0,
               "easing": "linear"
              }
             }
            ],
            "label": "1990",
            "method": "animate"
           },
           {
            "args": [
             [
              "1991"
             ],
             {
              "frame": {
               "duration": 0,
               "redraw": false
              },
              "fromcurrent": true,
              "mode": "immediate",
              "transition": {
               "duration": 0,
               "easing": "linear"
              }
             }
            ],
            "label": "1991",
            "method": "animate"
           },
           {
            "args": [
             [
              "1992"
             ],
             {
              "frame": {
               "duration": 0,
               "redraw": false
              },
              "fromcurrent": true,
              "mode": "immediate",
              "transition": {
               "duration": 0,
               "easing": "linear"
              }
             }
            ],
            "label": "1992",
            "method": "animate"
           },
           {
            "args": [
             [
              "1993"
             ],
             {
              "frame": {
               "duration": 0,
               "redraw": false
              },
              "fromcurrent": true,
              "mode": "immediate",
              "transition": {
               "duration": 0,
               "easing": "linear"
              }
             }
            ],
            "label": "1993",
            "method": "animate"
           },
           {
            "args": [
             [
              "1994"
             ],
             {
              "frame": {
               "duration": 0,
               "redraw": false
              },
              "fromcurrent": true,
              "mode": "immediate",
              "transition": {
               "duration": 0,
               "easing": "linear"
              }
             }
            ],
            "label": "1994",
            "method": "animate"
           },
           {
            "args": [
             [
              "1995"
             ],
             {
              "frame": {
               "duration": 0,
               "redraw": false
              },
              "fromcurrent": true,
              "mode": "immediate",
              "transition": {
               "duration": 0,
               "easing": "linear"
              }
             }
            ],
            "label": "1995",
            "method": "animate"
           },
           {
            "args": [
             [
              "1996"
             ],
             {
              "frame": {
               "duration": 0,
               "redraw": false
              },
              "fromcurrent": true,
              "mode": "immediate",
              "transition": {
               "duration": 0,
               "easing": "linear"
              }
             }
            ],
            "label": "1996",
            "method": "animate"
           },
           {
            "args": [
             [
              "1997"
             ],
             {
              "frame": {
               "duration": 0,
               "redraw": false
              },
              "fromcurrent": true,
              "mode": "immediate",
              "transition": {
               "duration": 0,
               "easing": "linear"
              }
             }
            ],
            "label": "1997",
            "method": "animate"
           },
           {
            "args": [
             [
              "1998"
             ],
             {
              "frame": {
               "duration": 0,
               "redraw": false
              },
              "fromcurrent": true,
              "mode": "immediate",
              "transition": {
               "duration": 0,
               "easing": "linear"
              }
             }
            ],
            "label": "1998",
            "method": "animate"
           },
           {
            "args": [
             [
              "1999"
             ],
             {
              "frame": {
               "duration": 0,
               "redraw": false
              },
              "fromcurrent": true,
              "mode": "immediate",
              "transition": {
               "duration": 0,
               "easing": "linear"
              }
             }
            ],
            "label": "1999",
            "method": "animate"
           },
           {
            "args": [
             [
              "2000"
             ],
             {
              "frame": {
               "duration": 0,
               "redraw": false
              },
              "fromcurrent": true,
              "mode": "immediate",
              "transition": {
               "duration": 0,
               "easing": "linear"
              }
             }
            ],
            "label": "2000",
            "method": "animate"
           },
           {
            "args": [
             [
              "2001"
             ],
             {
              "frame": {
               "duration": 0,
               "redraw": false
              },
              "fromcurrent": true,
              "mode": "immediate",
              "transition": {
               "duration": 0,
               "easing": "linear"
              }
             }
            ],
            "label": "2001",
            "method": "animate"
           },
           {
            "args": [
             [
              "2002"
             ],
             {
              "frame": {
               "duration": 0,
               "redraw": false
              },
              "fromcurrent": true,
              "mode": "immediate",
              "transition": {
               "duration": 0,
               "easing": "linear"
              }
             }
            ],
            "label": "2002",
            "method": "animate"
           },
           {
            "args": [
             [
              "2003"
             ],
             {
              "frame": {
               "duration": 0,
               "redraw": false
              },
              "fromcurrent": true,
              "mode": "immediate",
              "transition": {
               "duration": 0,
               "easing": "linear"
              }
             }
            ],
            "label": "2003",
            "method": "animate"
           },
           {
            "args": [
             [
              "2004"
             ],
             {
              "frame": {
               "duration": 0,
               "redraw": false
              },
              "fromcurrent": true,
              "mode": "immediate",
              "transition": {
               "duration": 0,
               "easing": "linear"
              }
             }
            ],
            "label": "2004",
            "method": "animate"
           },
           {
            "args": [
             [
              "2005"
             ],
             {
              "frame": {
               "duration": 0,
               "redraw": false
              },
              "fromcurrent": true,
              "mode": "immediate",
              "transition": {
               "duration": 0,
               "easing": "linear"
              }
             }
            ],
            "label": "2005",
            "method": "animate"
           },
           {
            "args": [
             [
              "2006"
             ],
             {
              "frame": {
               "duration": 0,
               "redraw": false
              },
              "fromcurrent": true,
              "mode": "immediate",
              "transition": {
               "duration": 0,
               "easing": "linear"
              }
             }
            ],
            "label": "2006",
            "method": "animate"
           },
           {
            "args": [
             [
              "2007"
             ],
             {
              "frame": {
               "duration": 0,
               "redraw": false
              },
              "fromcurrent": true,
              "mode": "immediate",
              "transition": {
               "duration": 0,
               "easing": "linear"
              }
             }
            ],
            "label": "2007",
            "method": "animate"
           },
           {
            "args": [
             [
              "2008"
             ],
             {
              "frame": {
               "duration": 0,
               "redraw": false
              },
              "fromcurrent": true,
              "mode": "immediate",
              "transition": {
               "duration": 0,
               "easing": "linear"
              }
             }
            ],
            "label": "2008",
            "method": "animate"
           },
           {
            "args": [
             [
              "2009"
             ],
             {
              "frame": {
               "duration": 0,
               "redraw": false
              },
              "fromcurrent": true,
              "mode": "immediate",
              "transition": {
               "duration": 0,
               "easing": "linear"
              }
             }
            ],
            "label": "2009",
            "method": "animate"
           },
           {
            "args": [
             [
              "2010"
             ],
             {
              "frame": {
               "duration": 0,
               "redraw": false
              },
              "fromcurrent": true,
              "mode": "immediate",
              "transition": {
               "duration": 0,
               "easing": "linear"
              }
             }
            ],
            "label": "2010",
            "method": "animate"
           },
           {
            "args": [
             [
              "2011"
             ],
             {
              "frame": {
               "duration": 0,
               "redraw": false
              },
              "fromcurrent": true,
              "mode": "immediate",
              "transition": {
               "duration": 0,
               "easing": "linear"
              }
             }
            ],
            "label": "2011",
            "method": "animate"
           },
           {
            "args": [
             [
              "2012"
             ],
             {
              "frame": {
               "duration": 0,
               "redraw": false
              },
              "fromcurrent": true,
              "mode": "immediate",
              "transition": {
               "duration": 0,
               "easing": "linear"
              }
             }
            ],
            "label": "2012",
            "method": "animate"
           },
           {
            "args": [
             [
              "2013"
             ],
             {
              "frame": {
               "duration": 0,
               "redraw": false
              },
              "fromcurrent": true,
              "mode": "immediate",
              "transition": {
               "duration": 0,
               "easing": "linear"
              }
             }
            ],
            "label": "2013",
            "method": "animate"
           },
           {
            "args": [
             [
              "2014"
             ],
             {
              "frame": {
               "duration": 0,
               "redraw": false
              },
              "fromcurrent": true,
              "mode": "immediate",
              "transition": {
               "duration": 0,
               "easing": "linear"
              }
             }
            ],
            "label": "2014",
            "method": "animate"
           },
           {
            "args": [
             [
              "2015"
             ],
             {
              "frame": {
               "duration": 0,
               "redraw": false
              },
              "fromcurrent": true,
              "mode": "immediate",
              "transition": {
               "duration": 0,
               "easing": "linear"
              }
             }
            ],
            "label": "2015",
            "method": "animate"
           },
           {
            "args": [
             [
              "2016"
             ],
             {
              "frame": {
               "duration": 0,
               "redraw": false
              },
              "fromcurrent": true,
              "mode": "immediate",
              "transition": {
               "duration": 0,
               "easing": "linear"
              }
             }
            ],
            "label": "2016",
            "method": "animate"
           },
           {
            "args": [
             [
              "2017"
             ],
             {
              "frame": {
               "duration": 0,
               "redraw": false
              },
              "fromcurrent": true,
              "mode": "immediate",
              "transition": {
               "duration": 0,
               "easing": "linear"
              }
             }
            ],
            "label": "2017",
            "method": "animate"
           },
           {
            "args": [
             [
              "2018"
             ],
             {
              "frame": {
               "duration": 0,
               "redraw": false
              },
              "fromcurrent": true,
              "mode": "immediate",
              "transition": {
               "duration": 0,
               "easing": "linear"
              }
             }
            ],
            "label": "2018",
            "method": "animate"
           },
           {
            "args": [
             [
              "2019"
             ],
             {
              "frame": {
               "duration": 0,
               "redraw": false
              },
              "fromcurrent": true,
              "mode": "immediate",
              "transition": {
               "duration": 0,
               "easing": "linear"
              }
             }
            ],
            "label": "2019",
            "method": "animate"
           },
           {
            "args": [
             [
              "2020"
             ],
             {
              "frame": {
               "duration": 0,
               "redraw": false
              },
              "fromcurrent": true,
              "mode": "immediate",
              "transition": {
               "duration": 0,
               "easing": "linear"
              }
             }
            ],
            "label": "2020",
            "method": "animate"
           },
           {
            "args": [
             [
              "2021"
             ],
             {
              "frame": {
               "duration": 0,
               "redraw": false
              },
              "fromcurrent": true,
              "mode": "immediate",
              "transition": {
               "duration": 0,
               "easing": "linear"
              }
             }
            ],
            "label": "2021",
            "method": "animate"
           },
           {
            "args": [
             [
              "2022"
             ],
             {
              "frame": {
               "duration": 0,
               "redraw": false
              },
              "fromcurrent": true,
              "mode": "immediate",
              "transition": {
               "duration": 0,
               "easing": "linear"
              }
             }
            ],
            "label": "2022",
            "method": "animate"
           },
           {
            "args": [
             [
              "2023"
             ],
             {
              "frame": {
               "duration": 0,
               "redraw": false
              },
              "fromcurrent": true,
              "mode": "immediate",
              "transition": {
               "duration": 0,
               "easing": "linear"
              }
             }
            ],
            "label": "2023",
            "method": "animate"
           },
           {
            "args": [
             [
              "2024"
             ],
             {
              "frame": {
               "duration": 0,
               "redraw": false
              },
              "fromcurrent": true,
              "mode": "immediate",
              "transition": {
               "duration": 0,
               "easing": "linear"
              }
             }
            ],
            "label": "2024",
            "method": "animate"
           }
          ],
          "x": 0.1,
          "xanchor": "left",
          "y": 0,
          "yanchor": "top"
         }
        ],
        "template": {
         "data": {
          "bar": [
           {
            "error_x": {
             "color": "#2a3f5f"
            },
            "error_y": {
             "color": "#2a3f5f"
            },
            "marker": {
             "line": {
              "color": "#E5ECF6",
              "width": 0.5
             },
             "pattern": {
              "fillmode": "overlay",
              "size": 10,
              "solidity": 0.2
             }
            },
            "type": "bar"
           }
          ],
          "barpolar": [
           {
            "marker": {
             "line": {
              "color": "#E5ECF6",
              "width": 0.5
             },
             "pattern": {
              "fillmode": "overlay",
              "size": 10,
              "solidity": 0.2
             }
            },
            "type": "barpolar"
           }
          ],
          "carpet": [
           {
            "aaxis": {
             "endlinecolor": "#2a3f5f",
             "gridcolor": "white",
             "linecolor": "white",
             "minorgridcolor": "white",
             "startlinecolor": "#2a3f5f"
            },
            "baxis": {
             "endlinecolor": "#2a3f5f",
             "gridcolor": "white",
             "linecolor": "white",
             "minorgridcolor": "white",
             "startlinecolor": "#2a3f5f"
            },
            "type": "carpet"
           }
          ],
          "choropleth": [
           {
            "colorbar": {
             "outlinewidth": 0,
             "ticks": ""
            },
            "type": "choropleth"
           }
          ],
          "contour": [
           {
            "colorbar": {
             "outlinewidth": 0,
             "ticks": ""
            },
            "colorscale": [
             [
              0,
              "#0d0887"
             ],
             [
              0.1111111111111111,
              "#46039f"
             ],
             [
              0.2222222222222222,
              "#7201a8"
             ],
             [
              0.3333333333333333,
              "#9c179e"
             ],
             [
              0.4444444444444444,
              "#bd3786"
             ],
             [
              0.5555555555555556,
              "#d8576b"
             ],
             [
              0.6666666666666666,
              "#ed7953"
             ],
             [
              0.7777777777777778,
              "#fb9f3a"
             ],
             [
              0.8888888888888888,
              "#fdca26"
             ],
             [
              1,
              "#f0f921"
             ]
            ],
            "type": "contour"
           }
          ],
          "contourcarpet": [
           {
            "colorbar": {
             "outlinewidth": 0,
             "ticks": ""
            },
            "type": "contourcarpet"
           }
          ],
          "heatmap": [
           {
            "colorbar": {
             "outlinewidth": 0,
             "ticks": ""
            },
            "colorscale": [
             [
              0,
              "#0d0887"
             ],
             [
              0.1111111111111111,
              "#46039f"
             ],
             [
              0.2222222222222222,
              "#7201a8"
             ],
             [
              0.3333333333333333,
              "#9c179e"
             ],
             [
              0.4444444444444444,
              "#bd3786"
             ],
             [
              0.5555555555555556,
              "#d8576b"
             ],
             [
              0.6666666666666666,
              "#ed7953"
             ],
             [
              0.7777777777777778,
              "#fb9f3a"
             ],
             [
              0.8888888888888888,
              "#fdca26"
             ],
             [
              1,
              "#f0f921"
             ]
            ],
            "type": "heatmap"
           }
          ],
          "histogram": [
           {
            "marker": {
             "pattern": {
              "fillmode": "overlay",
              "size": 10,
              "solidity": 0.2
             }
            },
            "type": "histogram"
           }
          ],
          "histogram2d": [
           {
            "colorbar": {
             "outlinewidth": 0,
             "ticks": ""
            },
            "colorscale": [
             [
              0,
              "#0d0887"
             ],
             [
              0.1111111111111111,
              "#46039f"
             ],
             [
              0.2222222222222222,
              "#7201a8"
             ],
             [
              0.3333333333333333,
              "#9c179e"
             ],
             [
              0.4444444444444444,
              "#bd3786"
             ],
             [
              0.5555555555555556,
              "#d8576b"
             ],
             [
              0.6666666666666666,
              "#ed7953"
             ],
             [
              0.7777777777777778,
              "#fb9f3a"
             ],
             [
              0.8888888888888888,
              "#fdca26"
             ],
             [
              1,
              "#f0f921"
             ]
            ],
            "type": "histogram2d"
           }
          ],
          "histogram2dcontour": [
           {
            "colorbar": {
             "outlinewidth": 0,
             "ticks": ""
            },
            "colorscale": [
             [
              0,
              "#0d0887"
             ],
             [
              0.1111111111111111,
              "#46039f"
             ],
             [
              0.2222222222222222,
              "#7201a8"
             ],
             [
              0.3333333333333333,
              "#9c179e"
             ],
             [
              0.4444444444444444,
              "#bd3786"
             ],
             [
              0.5555555555555556,
              "#d8576b"
             ],
             [
              0.6666666666666666,
              "#ed7953"
             ],
             [
              0.7777777777777778,
              "#fb9f3a"
             ],
             [
              0.8888888888888888,
              "#fdca26"
             ],
             [
              1,
              "#f0f921"
             ]
            ],
            "type": "histogram2dcontour"
           }
          ],
          "mesh3d": [
           {
            "colorbar": {
             "outlinewidth": 0,
             "ticks": ""
            },
            "type": "mesh3d"
           }
          ],
          "parcoords": [
           {
            "line": {
             "colorbar": {
              "outlinewidth": 0,
              "ticks": ""
             }
            },
            "type": "parcoords"
           }
          ],
          "pie": [
           {
            "automargin": true,
            "type": "pie"
           }
          ],
          "scatter": [
           {
            "fillpattern": {
             "fillmode": "overlay",
             "size": 10,
             "solidity": 0.2
            },
            "type": "scatter"
           }
          ],
          "scatter3d": [
           {
            "line": {
             "colorbar": {
              "outlinewidth": 0,
              "ticks": ""
             }
            },
            "marker": {
             "colorbar": {
              "outlinewidth": 0,
              "ticks": ""
             }
            },
            "type": "scatter3d"
           }
          ],
          "scattercarpet": [
           {
            "marker": {
             "colorbar": {
              "outlinewidth": 0,
              "ticks": ""
             }
            },
            "type": "scattercarpet"
           }
          ],
          "scattergeo": [
           {
            "marker": {
             "colorbar": {
              "outlinewidth": 0,
              "ticks": ""
             }
            },
            "type": "scattergeo"
           }
          ],
          "scattergl": [
           {
            "marker": {
             "colorbar": {
              "outlinewidth": 0,
              "ticks": ""
             }
            },
            "type": "scattergl"
           }
          ],
          "scattermap": [
           {
            "marker": {
             "colorbar": {
              "outlinewidth": 0,
              "ticks": ""
             }
            },
            "type": "scattermap"
           }
          ],
          "scattermapbox": [
           {
            "marker": {
             "colorbar": {
              "outlinewidth": 0,
              "ticks": ""
             }
            },
            "type": "scattermapbox"
           }
          ],
          "scatterpolar": [
           {
            "marker": {
             "colorbar": {
              "outlinewidth": 0,
              "ticks": ""
             }
            },
            "type": "scatterpolar"
           }
          ],
          "scatterpolargl": [
           {
            "marker": {
             "colorbar": {
              "outlinewidth": 0,
              "ticks": ""
             }
            },
            "type": "scatterpolargl"
           }
          ],
          "scatterternary": [
           {
            "marker": {
             "colorbar": {
              "outlinewidth": 0,
              "ticks": ""
             }
            },
            "type": "scatterternary"
           }
          ],
          "surface": [
           {
            "colorbar": {
             "outlinewidth": 0,
             "ticks": ""
            },
            "colorscale": [
             [
              0,
              "#0d0887"
             ],
             [
              0.1111111111111111,
              "#46039f"
             ],
             [
              0.2222222222222222,
              "#7201a8"
             ],
             [
              0.3333333333333333,
              "#9c179e"
             ],
             [
              0.4444444444444444,
              "#bd3786"
             ],
             [
              0.5555555555555556,
              "#d8576b"
             ],
             [
              0.6666666666666666,
              "#ed7953"
             ],
             [
              0.7777777777777778,
              "#fb9f3a"
             ],
             [
              0.8888888888888888,
              "#fdca26"
             ],
             [
              1,
              "#f0f921"
             ]
            ],
            "type": "surface"
           }
          ],
          "table": [
           {
            "cells": {
             "fill": {
              "color": "#EBF0F8"
             },
             "line": {
              "color": "white"
             }
            },
            "header": {
             "fill": {
              "color": "#C8D4E3"
             },
             "line": {
              "color": "white"
             }
            },
            "type": "table"
           }
          ]
         },
         "layout": {
          "annotationdefaults": {
           "arrowcolor": "#2a3f5f",
           "arrowhead": 0,
           "arrowwidth": 1
          },
          "autotypenumbers": "strict",
          "coloraxis": {
           "colorbar": {
            "outlinewidth": 0,
            "ticks": ""
           }
          },
          "colorscale": {
           "diverging": [
            [
             0,
             "#8e0152"
            ],
            [
             0.1,
             "#c51b7d"
            ],
            [
             0.2,
             "#de77ae"
            ],
            [
             0.3,
             "#f1b6da"
            ],
            [
             0.4,
             "#fde0ef"
            ],
            [
             0.5,
             "#f7f7f7"
            ],
            [
             0.6,
             "#e6f5d0"
            ],
            [
             0.7,
             "#b8e186"
            ],
            [
             0.8,
             "#7fbc41"
            ],
            [
             0.9,
             "#4d9221"
            ],
            [
             1,
             "#276419"
            ]
           ],
           "sequential": [
            [
             0,
             "#0d0887"
            ],
            [
             0.1111111111111111,
             "#46039f"
            ],
            [
             0.2222222222222222,
             "#7201a8"
            ],
            [
             0.3333333333333333,
             "#9c179e"
            ],
            [
             0.4444444444444444,
             "#bd3786"
            ],
            [
             0.5555555555555556,
             "#d8576b"
            ],
            [
             0.6666666666666666,
             "#ed7953"
            ],
            [
             0.7777777777777778,
             "#fb9f3a"
            ],
            [
             0.8888888888888888,
             "#fdca26"
            ],
            [
             1,
             "#f0f921"
            ]
           ],
           "sequentialminus": [
            [
             0,
             "#0d0887"
            ],
            [
             0.1111111111111111,
             "#46039f"
            ],
            [
             0.2222222222222222,
             "#7201a8"
            ],
            [
             0.3333333333333333,
             "#9c179e"
            ],
            [
             0.4444444444444444,
             "#bd3786"
            ],
            [
             0.5555555555555556,
             "#d8576b"
            ],
            [
             0.6666666666666666,
             "#ed7953"
            ],
            [
             0.7777777777777778,
             "#fb9f3a"
            ],
            [
             0.8888888888888888,
             "#fdca26"
            ],
            [
             1,
             "#f0f921"
            ]
           ]
          },
          "colorway": [
           "#636efa",
           "#EF553B",
           "#00cc96",
           "#ab63fa",
           "#FFA15A",
           "#19d3f3",
           "#FF6692",
           "#B6E880",
           "#FF97FF",
           "#FECB52"
          ],
          "font": {
           "color": "#2a3f5f"
          },
          "geo": {
           "bgcolor": "white",
           "lakecolor": "white",
           "landcolor": "#E5ECF6",
           "showlakes": true,
           "showland": true,
           "subunitcolor": "white"
          },
          "hoverlabel": {
           "align": "left"
          },
          "hovermode": "closest",
          "mapbox": {
           "style": "light"
          },
          "paper_bgcolor": "white",
          "plot_bgcolor": "#E5ECF6",
          "polar": {
           "angularaxis": {
            "gridcolor": "white",
            "linecolor": "white",
            "ticks": ""
           },
           "bgcolor": "#E5ECF6",
           "radialaxis": {
            "gridcolor": "white",
            "linecolor": "white",
            "ticks": ""
           }
          },
          "scene": {
           "xaxis": {
            "backgroundcolor": "#E5ECF6",
            "gridcolor": "white",
            "gridwidth": 2,
            "linecolor": "white",
            "showbackground": true,
            "ticks": "",
            "zerolinecolor": "white"
           },
           "yaxis": {
            "backgroundcolor": "#E5ECF6",
            "gridcolor": "white",
            "gridwidth": 2,
            "linecolor": "white",
            "showbackground": true,
            "ticks": "",
            "zerolinecolor": "white"
           },
           "zaxis": {
            "backgroundcolor": "#E5ECF6",
            "gridcolor": "white",
            "gridwidth": 2,
            "linecolor": "white",
            "showbackground": true,
            "ticks": "",
            "zerolinecolor": "white"
           }
          },
          "shapedefaults": {
           "line": {
            "color": "#2a3f5f"
           }
          },
          "ternary": {
           "aaxis": {
            "gridcolor": "white",
            "linecolor": "white",
            "ticks": ""
           },
           "baxis": {
            "gridcolor": "white",
            "linecolor": "white",
            "ticks": ""
           },
           "bgcolor": "#E5ECF6",
           "caxis": {
            "gridcolor": "white",
            "linecolor": "white",
            "ticks": ""
           }
          },
          "title": {
           "x": 0.05
          },
          "xaxis": {
           "automargin": true,
           "gridcolor": "white",
           "linecolor": "white",
           "ticks": "",
           "title": {
            "standoff": 15
           },
           "zerolinecolor": "white",
           "zerolinewidth": 2
          },
          "yaxis": {
           "automargin": true,
           "gridcolor": "white",
           "linecolor": "white",
           "ticks": "",
           "title": {
            "standoff": 15
           },
           "zerolinecolor": "white",
           "zerolinewidth": 2
          }
         }
        },
        "title": {
         "text": "Releases per year"
        },
        "updatemenus": [
         {
          "buttons": [
           {
            "args": [
             null,
             {
              "frame": {
               "duration": 500,
               "redraw": false
              },
              "fromcurrent": true,
              "mode": "immediate",
              "transition": {
               "duration": 500,
               "easing": "linear"
              }
             }
            ],
            "label": "&#9654;",
            "method": "animate"
           },
           {
            "args": [
             [
              null
             ],
             {
              "frame": {
               "duration": 0,
               "redraw": false
              },
              "fromcurrent": true,
              "mode": "immediate",
              "transition": {
               "duration": 0,
               "easing": "linear"
              }
             }
            ],
            "label": "&#9724;",
            "method": "animate"
           }
          ],
          "direction": "left",
          "pad": {
           "r": 10,
           "t": 70
          },
          "showactive": false,
          "type": "buttons",
          "x": 0.1,
          "xanchor": "right",
          "y": 0,
          "yanchor": "top"
         }
        ],
        "xaxis": {
         "anchor": "y",
         "domain": [
          0,
          1
         ],
         "range": [
          1956,
          2024
         ],
         "title": {
          "text": "Year"
         }
        },
        "yaxis": {
         "anchor": "x",
         "domain": [
          0,
          1
         ],
         "range": [
          0,
          3000
         ],
         "title": {
          "text": "Launches"
         }
        }
       }
      }
     },
     "metadata": {},
     "output_type": "display_data"
    }
   ],
   "source": [
    "\n",
    "ruta_archivo = \"json/per_year.json\"\n",
    "year = []\n",
    "satellite = []\n",
    "\n",
    "with open (ruta_archivo,\"r\",encoding='utf8') as f:\n",
    "    data = json.load(f)\n",
    "    for i in data:\n",
    "        year.append(i['year'])\n",
    "        satellite.append(i['launchs'])\n",
    "\n",
    "df = pd.DataFrame({\"Year\": year, \"Launches\": satellite})\n",
    "fig = px.line(df, x=\"Year\", y=\"Launches\", title=\"Releases per year\",animation_frame = year,animation_group=year,markers = True,range_x = [1956,2024], range_y=[0,3000])\n",
    "fig.update_traces(marker=dict(size=15, color='blue'))\n",
    "fig.update_layout(plot_bgcolor='rgba(0,0,0,0)', paper_bgcolor='rgba(0,0,0,0)')\n",
    "fig.show()\n"
   ]
  },
  {
   "cell_type": "code",
   "execution_count": 8,
   "id": "fd194e67",
   "metadata": {},
   "outputs": [
    {
     "data": {
      "application/vnd.plotly.v1+json": {
       "config": {
        "plotlyServerURL": "https://plot.ly"
       },
       "data": [
        {
         "mode": "lines",
         "name": "Launches",
         "type": "scatter",
         "x": [],
         "y": []
        }
       ],
       "frames": [
        {
         "data": [
          {
           "mode": "lines",
           "name": "Launches",
           "type": "scatter",
           "x": {
            "bdata": "pQc=",
            "dtype": "i2"
           },
           "y": {
            "bdata": "Ag==",
            "dtype": "i1"
           }
          }
         ],
         "layout": {
          "title": {
           "text": "Releases per year: 1957"
          }
         }
        },
        {
         "data": [
          {
           "mode": "lines",
           "name": "Launches",
           "type": "scatter",
           "x": {
            "bdata": "pQemBw==",
            "dtype": "i2"
           },
           "y": {
            "bdata": "Agg=",
            "dtype": "i1"
           }
          }
         ],
         "layout": {
          "title": {
           "text": "Releases per year: 1958"
          }
         }
        },
        {
         "data": [
          {
           "mode": "lines",
           "name": "Launches",
           "type": "scatter",
           "x": {
            "bdata": "pQemB6cH",
            "dtype": "i2"
           },
           "y": {
            "bdata": "AggO",
            "dtype": "i1"
           }
          }
         ],
         "layout": {
          "title": {
           "text": "Releases per year: 1959"
          }
         }
        },
        {
         "data": [
          {
           "mode": "lines",
           "name": "Launches",
           "type": "scatter",
           "x": {
            "bdata": "pQemB6cHqAc=",
            "dtype": "i2"
           },
           "y": {
            "bdata": "AggOFA==",
            "dtype": "i1"
           }
          }
         ],
         "layout": {
          "title": {
           "text": "Releases per year: 1960"
          }
         }
        },
        {
         "data": [
          {
           "mode": "lines",
           "name": "Launches",
           "type": "scatter",
           "x": {
            "bdata": "pQemB6cHqAepBw==",
            "dtype": "i2"
           },
           "y": {
            "bdata": "AggOFCY=",
            "dtype": "i1"
           }
          }
         ],
         "layout": {
          "title": {
           "text": "Releases per year: 1961"
          }
         }
        },
        {
         "data": [
          {
           "mode": "lines",
           "name": "Launches",
           "type": "scatter",
           "x": {
            "bdata": "pQemB6cHqAepB6oH",
            "dtype": "i2"
           },
           "y": {
            "bdata": "AggOFCZN",
            "dtype": "i1"
           }
          }
         ],
         "layout": {
          "title": {
           "text": "Releases per year: 1962"
          }
         }
        },
        {
         "data": [
          {
           "mode": "lines",
           "name": "Launches",
           "type": "scatter",
           "x": {
            "bdata": "pQemB6cHqAepB6oHqwc=",
            "dtype": "i2"
           },
           "y": {
            "bdata": "AggOFCZNRw==",
            "dtype": "i1"
           }
          }
         ],
         "layout": {
          "title": {
           "text": "Releases per year: 1963"
          }
         }
        },
        {
         "data": [
          {
           "mode": "lines",
           "name": "Launches",
           "type": "scatter",
           "x": {
            "bdata": "pQemB6cHqAepB6oHqwesBw==",
            "dtype": "i2"
           },
           "y": {
            "bdata": "AggOFCZNR2s=",
            "dtype": "i1"
           }
          }
         ],
         "layout": {
          "title": {
           "text": "Releases per year: 1964"
          }
         }
        },
        {
         "data": [
          {
           "mode": "lines",
           "name": "Launches",
           "type": "scatter",
           "x": {
            "bdata": "pQemB6cHqAepB6oHqwesB60H",
            "dtype": "i2"
           },
           "y": {
            "bdata": "AgAIAA4AFAAmAE0ARwBrAKEA",
            "dtype": "i2"
           }
          }
         ],
         "layout": {
          "title": {
           "text": "Releases per year: 1965"
          }
         }
        },
        {
         "data": [
          {
           "mode": "lines",
           "name": "Launches",
           "type": "scatter",
           "x": {
            "bdata": "pQemB6cHqAepB6oHqwesB60Hrgc=",
            "dtype": "i2"
           },
           "y": {
            "bdata": "AgAIAA4AFAAmAE0ARwBrAKEAkQA=",
            "dtype": "i2"
           }
          }
         ],
         "layout": {
          "title": {
           "text": "Releases per year: 1966"
          }
         }
        },
        {
         "data": [
          {
           "mode": "lines",
           "name": "Launches",
           "type": "scatter",
           "x": {
            "bdata": "pQemB6cHqAepB6oHqwesB60HrgevBw==",
            "dtype": "i2"
           },
           "y": {
            "bdata": "AgAIAA4AFAAmAE0ARwBrAKEAkQCfAA==",
            "dtype": "i2"
           }
          }
         ],
         "layout": {
          "title": {
           "text": "Releases per year: 1967"
          }
         }
        },
        {
         "data": [
          {
           "mode": "lines",
           "name": "Launches",
           "type": "scatter",
           "x": {
            "bdata": "pQemB6cHqAepB6oHqwesB60HrgevB7AH",
            "dtype": "i2"
           },
           "y": {
            "bdata": "AgAIAA4AFAAmAE0ARwBrAKEAkQCfAIwA",
            "dtype": "i2"
           }
          }
         ],
         "layout": {
          "title": {
           "text": "Releases per year: 1968"
          }
         }
        },
        {
         "data": [
          {
           "mode": "lines",
           "name": "Launches",
           "type": "scatter",
           "x": {
            "bdata": "pQemB6cHqAepB6oHqwesB60HrgevB7AHsQc=",
            "dtype": "i2"
           },
           "y": {
            "bdata": "AgAIAA4AFAAmAE0ARwBrAKEAkQCfAIwAigA=",
            "dtype": "i2"
           }
          }
         ],
         "layout": {
          "title": {
           "text": "Releases per year: 1969"
          }
         }
        },
        {
         "data": [
          {
           "mode": "lines",
           "name": "Launches",
           "type": "scatter",
           "x": {
            "bdata": "pQemB6cHqAepB6oHqwesB60HrgevB7AHsQeyBw==",
            "dtype": "i2"
           },
           "y": {
            "bdata": "AgAIAA4AFAAmAE0ARwBrAKEAkQCfAIwAigCCAA==",
            "dtype": "i2"
           }
          }
         ],
         "layout": {
          "title": {
           "text": "Releases per year: 1970"
          }
         }
        },
        {
         "data": [
          {
           "mode": "lines",
           "name": "Launches",
           "type": "scatter",
           "x": {
            "bdata": "pQemB6cHqAepB6oHqwesB60HrgevB7AHsQeyB7MH",
            "dtype": "i2"
           },
           "y": {
            "bdata": "AgAIAA4AFAAmAE0ARwBrAKEAkQCfAIwAigCCAJwA",
            "dtype": "i2"
           }
          }
         ],
         "layout": {
          "title": {
           "text": "Releases per year: 1971"
          }
         }
        },
        {
         "data": [
          {
           "mode": "lines",
           "name": "Launches",
           "type": "scatter",
           "x": {
            "bdata": "pQemB6cHqAepB6oHqwesB60HrgevB7AHsQeyB7MHtAc=",
            "dtype": "i2"
           },
           "y": {
            "bdata": "AgAIAA4AFAAmAE0ARwBrAKEAkQCfAIwAigCCAJwAhQA=",
            "dtype": "i2"
           }
          }
         ],
         "layout": {
          "title": {
           "text": "Releases per year: 1972"
          }
         }
        },
        {
         "data": [
          {
           "mode": "lines",
           "name": "Launches",
           "type": "scatter",
           "x": {
            "bdata": "pQemB6cHqAepB6oHqwesB60HrgevB7AHsQeyB7MHtAe1Bw==",
            "dtype": "i2"
           },
           "y": {
            "bdata": "AgAIAA4AFAAmAE0ARwBrAKEAkQCfAIwAigCCAJwAhQCKAA==",
            "dtype": "i2"
           }
          }
         ],
         "layout": {
          "title": {
           "text": "Releases per year: 1973"
          }
         }
        },
        {
         "data": [
          {
           "mode": "lines",
           "name": "Launches",
           "type": "scatter",
           "x": {
            "bdata": "pQemB6cHqAepB6oHqwesB60HrgevB7AHsQeyB7MHtAe1B7YH",
            "dtype": "i2"
           },
           "y": {
            "bdata": "AgAIAA4AFAAmAE0ARwBrAKEAkQCfAIwAigCCAJwAhQCKAIAA",
            "dtype": "i2"
           }
          }
         ],
         "layout": {
          "title": {
           "text": "Releases per year: 1974"
          }
         }
        },
        {
         "data": [
          {
           "mode": "lines",
           "name": "Launches",
           "type": "scatter",
           "x": {
            "bdata": "pQemB6cHqAepB6oHqwesB60HrgevB7AHsQeyB7MHtAe1B7YHtwc=",
            "dtype": "i2"
           },
           "y": {
            "bdata": "AgAIAA4AFAAmAE0ARwBrAKEAkQCfAIwAigCCAJwAhQCKAIAAngA=",
            "dtype": "i2"
           }
          }
         ],
         "layout": {
          "title": {
           "text": "Releases per year: 1975"
          }
         }
        },
        {
         "data": [
          {
           "mode": "lines",
           "name": "Launches",
           "type": "scatter",
           "x": {
            "bdata": "pQemB6cHqAepB6oHqwesB60HrgevB7AHsQeyB7MHtAe1B7YHtwe4Bw==",
            "dtype": "i2"
           },
           "y": {
            "bdata": "AgAIAA4AFAAmAE0ARwBrAKEAkQCfAIwAigCCAJwAhQCKAIAAngCeAA==",
            "dtype": "i2"
           }
          }
         ],
         "layout": {
          "title": {
           "text": "Releases per year: 1976"
          }
         }
        },
        {
         "data": [
          {
           "mode": "lines",
           "name": "Launches",
           "type": "scatter",
           "x": {
            "bdata": "pQemB6cHqAepB6oHqwesB60HrgevB7AHsQeyB7MHtAe1B7YHtwe4B7kH",
            "dtype": "i2"
           },
           "y": {
            "bdata": "AgAIAA4AFAAmAE0ARwBrAKEAkQCfAIwAigCCAJwAhQCKAIAAngCeAIkA",
            "dtype": "i2"
           }
          }
         ],
         "layout": {
          "title": {
           "text": "Releases per year: 1977"
          }
         }
        },
        {
         "data": [
          {
           "mode": "lines",
           "name": "Launches",
           "type": "scatter",
           "x": {
            "bdata": "pQemB6cHqAepB6oHqwesB60HrgevB7AHsQeyB7MHtAe1B7YHtwe4B7kHugc=",
            "dtype": "i2"
           },
           "y": {
            "bdata": "AgAIAA4AFAAmAE0ARwBrAKEAkQCfAIwAigCCAJwAhQCKAIAAngCeAIkApQA=",
            "dtype": "i2"
           }
          }
         ],
         "layout": {
          "title": {
           "text": "Releases per year: 1978"
          }
         }
        },
        {
         "data": [
          {
           "mode": "lines",
           "name": "Launches",
           "type": "scatter",
           "x": {
            "bdata": "pQemB6cHqAepB6oHqwesB60HrgevB7AHsQeyB7MHtAe1B7YHtwe4B7kHuge7Bw==",
            "dtype": "i2"
           },
           "y": {
            "bdata": "AgAIAA4AFAAmAE0ARwBrAKEAkQCfAIwAigCCAJwAhQCKAIAAngCeAIkApQB8AA==",
            "dtype": "i2"
           }
          }
         ],
         "layout": {
          "title": {
           "text": "Releases per year: 1979"
          }
         }
        },
        {
         "data": [
          {
           "mode": "lines",
           "name": "Launches",
           "type": "scatter",
           "x": {
            "bdata": "pQemB6cHqAepB6oHqwesB60HrgevB7AHsQeyB7MHtAe1B7YHtwe4B7kHuge7B7wH",
            "dtype": "i2"
           },
           "y": {
            "bdata": "AgAIAA4AFAAmAE0ARwBrAKEAkQCfAIwAigCCAJwAhQCKAIAAngCeAIkApQB8AIIA",
            "dtype": "i2"
           }
          }
         ],
         "layout": {
          "title": {
           "text": "Releases per year: 1980"
          }
         }
        },
        {
         "data": [
          {
           "mode": "lines",
           "name": "Launches",
           "type": "scatter",
           "x": {
            "bdata": "pQemB6cHqAepB6oHqwesB60HrgevB7AHsQeyB7MHtAe1B7YHtwe4B7kHuge7B7wHvQc=",
            "dtype": "i2"
           },
           "y": {
            "bdata": "AgAIAA4AFAAmAE0ARwBrAKEAkQCfAIwAigCCAJwAhQCKAIAAngCeAIkApQB8AIIAngA=",
            "dtype": "i2"
           }
          }
         ],
         "layout": {
          "title": {
           "text": "Releases per year: 1981"
          }
         }
        },
        {
         "data": [
          {
           "mode": "lines",
           "name": "Launches",
           "type": "scatter",
           "x": {
            "bdata": "pQemB6cHqAepB6oHqwesB60HrgevB7AHsQeyB7MHtAe1B7YHtwe4B7kHuge7B7wHvQe+Bw==",
            "dtype": "i2"
           },
           "y": {
            "bdata": "AgAIAA4AFAAmAE0ARwBrAKEAkQCfAIwAigCCAJwAhQCKAIAAngCeAIkApQB8AIIAngCRAA==",
            "dtype": "i2"
           }
          }
         ],
         "layout": {
          "title": {
           "text": "Releases per year: 1982"
          }
         }
        },
        {
         "data": [
          {
           "mode": "lines",
           "name": "Launches",
           "type": "scatter",
           "x": {
            "bdata": "pQemB6cHqAepB6oHqwesB60HrgevB7AHsQeyB7MHtAe1B7YHtwe4B7kHuge7B7wHvQe+B78H",
            "dtype": "i2"
           },
           "y": {
            "bdata": "AgAIAA4AFAAmAE0ARwBrAKEAkQCfAIwAigCCAJwAhQCKAIAAngCeAIkApQB8AIIAngCRAJoA",
            "dtype": "i2"
           }
          }
         ],
         "layout": {
          "title": {
           "text": "Releases per year: 1983"
          }
         }
        },
        {
         "data": [
          {
           "mode": "lines",
           "name": "Launches",
           "type": "scatter",
           "x": {
            "bdata": "pQemB6cHqAepB6oHqwesB60HrgevB7AHsQeyB7MHtAe1B7YHtwe4B7kHuge7B7wHvQe+B78HwAc=",
            "dtype": "i2"
           },
           "y": {
            "bdata": "AgAIAA4AFAAmAE0ARwBrAKEAkQCfAIwAigCCAJwAhQCKAIAAngCeAIkApQB8AIIAngCRAJoAowA=",
            "dtype": "i2"
           }
          }
         ],
         "layout": {
          "title": {
           "text": "Releases per year: 1984"
          }
         }
        },
        {
         "data": [
          {
           "mode": "lines",
           "name": "Launches",
           "type": "scatter",
           "x": {
            "bdata": "pQemB6cHqAepB6oHqwesB60HrgevB7AHsQeyB7MHtAe1B7YHtwe4B7kHuge7B7wHvQe+B78HwAfBBw==",
            "dtype": "i2"
           },
           "y": {
            "bdata": "AgAIAA4AFAAmAE0ARwBrAKEAkQCfAIwAigCCAJwAhQCKAIAAngCeAIkApQB8AIIAngCRAJoAowClAA==",
            "dtype": "i2"
           }
          }
         ],
         "layout": {
          "title": {
           "text": "Releases per year: 1985"
          }
         }
        },
        {
         "data": [
          {
           "mode": "lines",
           "name": "Launches",
           "type": "scatter",
           "x": {
            "bdata": "pQemB6cHqAepB6oHqwesB60HrgevB7AHsQeyB7MHtAe1B7YHtwe4B7kHuge7B7wHvQe+B78HwAfBB8IH",
            "dtype": "i2"
           },
           "y": {
            "bdata": "AgAIAA4AFAAmAE0ARwBrAKEAkQCfAIwAigCCAJwAhQCKAIAAngCeAIkApQB8AIIAngCRAJoAowClAIYA",
            "dtype": "i2"
           }
          }
         ],
         "layout": {
          "title": {
           "text": "Releases per year: 1986"
          }
         }
        },
        {
         "data": [
          {
           "mode": "lines",
           "name": "Launches",
           "type": "scatter",
           "x": {
            "bdata": "pQemB6cHqAepB6oHqwesB60HrgevB7AHsQeyB7MHtAe1B7YHtwe4B7kHuge7B7wHvQe+B78HwAfBB8IHwwc=",
            "dtype": "i2"
           },
           "y": {
            "bdata": "AgAIAA4AFAAmAE0ARwBrAKEAkQCfAIwAigCCAJwAhQCKAIAAngCeAIkApQB8AIIAngCRAJoAowClAIYAhwA=",
            "dtype": "i2"
           }
          }
         ],
         "layout": {
          "title": {
           "text": "Releases per year: 1987"
          }
         }
        },
        {
         "data": [
          {
           "mode": "lines",
           "name": "Launches",
           "type": "scatter",
           "x": {
            "bdata": "pQemB6cHqAepB6oHqwesB60HrgevB7AHsQeyB7MHtAe1B7YHtwe4B7kHuge7B7wHvQe+B78HwAfBB8IHwwfEBw==",
            "dtype": "i2"
           },
           "y": {
            "bdata": "AgAIAA4AFAAmAE0ARwBrAKEAkQCfAIwAigCCAJwAhQCKAIAAngCeAIkApQB8AIIAngCRAJoAowClAIYAhwCRAA==",
            "dtype": "i2"
           }
          }
         ],
         "layout": {
          "title": {
           "text": "Releases per year: 1988"
          }
         }
        },
        {
         "data": [
          {
           "mode": "lines",
           "name": "Launches",
           "type": "scatter",
           "x": {
            "bdata": "pQemB6cHqAepB6oHqwesB60HrgevB7AHsQeyB7MHtAe1B7YHtwe4B7kHuge7B7wHvQe+B78HwAfBB8IHwwfEB8UH",
            "dtype": "i2"
           },
           "y": {
            "bdata": "AgAIAA4AFAAmAE0ARwBrAKEAkQCfAIwAigCCAJwAhQCKAIAAngCeAIkApQB8AIIAngCRAJoAowClAIYAhwCRAIsA",
            "dtype": "i2"
           }
          }
         ],
         "layout": {
          "title": {
           "text": "Releases per year: 1989"
          }
         }
        },
        {
         "data": [
          {
           "mode": "lines",
           "name": "Launches",
           "type": "scatter",
           "x": {
            "bdata": "pQemB6cHqAepB6oHqwesB60HrgevB7AHsQeyB7MHtAe1B7YHtwe4B7kHuge7B7wHvQe+B78HwAfBB8IHwwfEB8UHxgc=",
            "dtype": "i2"
           },
           "y": {
            "bdata": "AgAIAA4AFAAmAE0ARwBrAKEAkQCfAIwAigCCAJwAhQCKAIAAngCeAIkApQB8AIIAngCRAJoAowClAIYAhwCRAIsAqgA=",
            "dtype": "i2"
           }
          }
         ],
         "layout": {
          "title": {
           "text": "Releases per year: 1990"
          }
         }
        },
        {
         "data": [
          {
           "mode": "lines",
           "name": "Launches",
           "type": "scatter",
           "x": {
            "bdata": "pQemB6cHqAepB6oHqwesB60HrgevB7AHsQeyB7MHtAe1B7YHtwe4B7kHuge7B7wHvQe+B78HwAfBB8IHwwfEB8UHxgfHBw==",
            "dtype": "i2"
           },
           "y": {
            "bdata": "AgAIAA4AFAAmAE0ARwBrAKEAkQCfAIwAigCCAJwAhQCKAIAAngCeAIkApQB8AIIAngCRAJoAowClAIYAhwCRAIsAqgCJAA==",
            "dtype": "i2"
           }
          }
         ],
         "layout": {
          "title": {
           "text": "Releases per year: 1991"
          }
         }
        },
        {
         "data": [
          {
           "mode": "lines",
           "name": "Launches",
           "type": "scatter",
           "x": {
            "bdata": "pQemB6cHqAepB6oHqwesB60HrgevB7AHsQeyB7MHtAe1B7YHtwe4B7kHuge7B7wHvQe+B78HwAfBB8IHwwfEB8UHxgfHB8gH",
            "dtype": "i2"
           },
           "y": {
            "bdata": "AgAIAA4AFAAmAE0ARwBrAKEAkQCfAIwAigCCAJwAhQCKAIAAngCeAIkApQB8AIIAngCRAJoAowClAIYAhwCRAIsAqgCJAIIA",
            "dtype": "i2"
           }
          }
         ],
         "layout": {
          "title": {
           "text": "Releases per year: 1992"
          }
         }
        },
        {
         "data": [
          {
           "mode": "lines",
           "name": "Launches",
           "type": "scatter",
           "x": {
            "bdata": "pQemB6cHqAepB6oHqwesB60HrgevB7AHsQeyB7MHtAe1B7YHtwe4B7kHuge7B7wHvQe+B78HwAfBB8IHwwfEB8UHxgfHB8gHyQc=",
            "dtype": "i2"
           },
           "y": {
            "bdata": "AgAIAA4AFAAmAE0ARwBrAKEAkQCfAIwAigCCAJwAhQCKAIAAngCeAIkApQB8AIIAngCRAJoAowClAIYAhwCRAIsAqgCJAIIAbAA=",
            "dtype": "i2"
           }
          }
         ],
         "layout": {
          "title": {
           "text": "Releases per year: 1993"
          }
         }
        },
        {
         "data": [
          {
           "mode": "lines",
           "name": "Launches",
           "type": "scatter",
           "x": {
            "bdata": "pQemB6cHqAepB6oHqwesB60HrgevB7AHsQeyB7MHtAe1B7YHtwe4B7kHuge7B7wHvQe+B78HwAfBB8IHwwfEB8UHxgfHB8gHyQfKBw==",
            "dtype": "i2"
           },
           "y": {
            "bdata": "AgAIAA4AFAAmAE0ARwBrAKEAkQCfAIwAigCCAJwAhQCKAIAAngCeAIkApQB8AIIAngCRAJoAowClAIYAhwCRAIsAqgCJAIIAbAB7AA==",
            "dtype": "i2"
           }
          }
         ],
         "layout": {
          "title": {
           "text": "Releases per year: 1994"
          }
         }
        },
        {
         "data": [
          {
           "mode": "lines",
           "name": "Launches",
           "type": "scatter",
           "x": {
            "bdata": "pQemB6cHqAepB6oHqwesB60HrgevB7AHsQeyB7MHtAe1B7YHtwe4B7kHuge7B7wHvQe+B78HwAfBB8IHwwfEB8UHxgfHB8gHyQfKB8sH",
            "dtype": "i2"
           },
           "y": {
            "bdata": "AgAIAA4AFAAmAE0ARwBrAKEAkQCfAIwAigCCAJwAhQCKAIAAngCeAIkApQB8AIIAngCRAJoAowClAIYAhwCRAIsAqgCJAIIAbAB7AGkA",
            "dtype": "i2"
           }
          }
         ],
         "layout": {
          "title": {
           "text": "Releases per year: 1995"
          }
         }
        },
        {
         "data": [
          {
           "mode": "lines",
           "name": "Launches",
           "type": "scatter",
           "x": {
            "bdata": "pQemB6cHqAepB6oHqwesB60HrgevB7AHsQeyB7MHtAe1B7YHtwe4B7kHuge7B7wHvQe+B78HwAfBB8IHwwfEB8UHxgfHB8gHyQfKB8sHzAc=",
            "dtype": "i2"
           },
           "y": {
            "bdata": "AgAIAA4AFAAmAE0ARwBrAKEAkQCfAIwAigCCAJwAhQCKAIAAngCeAIkApQB8AIIAngCRAJoAowClAIYAhwCRAIsAqgCJAIIAbAB7AGkAZAA=",
            "dtype": "i2"
           }
          }
         ],
         "layout": {
          "title": {
           "text": "Releases per year: 1996"
          }
         }
        },
        {
         "data": [
          {
           "mode": "lines",
           "name": "Launches",
           "type": "scatter",
           "x": {
            "bdata": "pQemB6cHqAepB6oHqwesB60HrgevB7AHsQeyB7MHtAe1B7YHtwe4B7kHuge7B7wHvQe+B78HwAfBB8IHwwfEB8UHxgfHB8gHyQfKB8sHzAfNBw==",
            "dtype": "i2"
           },
           "y": {
            "bdata": "AgAIAA4AFAAmAE0ARwBrAKEAkQCfAIwAigCCAJwAhQCKAIAAngCeAIkApQB8AIIAngCRAJoAowClAIYAhwCRAIsAqgCJAIIAbAB7AGkAZACYAA==",
            "dtype": "i2"
           }
          }
         ],
         "layout": {
          "title": {
           "text": "Releases per year: 1997"
          }
         }
        },
        {
         "data": [
          {
           "mode": "lines",
           "name": "Launches",
           "type": "scatter",
           "x": {
            "bdata": "pQemB6cHqAepB6oHqwesB60HrgevB7AHsQeyB7MHtAe1B7YHtwe4B7kHuge7B7wHvQe+B78HwAfBB8IHwwfEB8UHxgfHB8gHyQfKB8sHzAfNB84H",
            "dtype": "i2"
           },
           "y": {
            "bdata": "AgAIAA4AFAAmAE0ARwBrAKEAkQCfAIwAigCCAJwAhQCKAIAAngCeAIkApQB8AIIAngCRAJoAowClAIYAhwCRAIsAqgCJAIIAbAB7AGkAZACYAJ0A",
            "dtype": "i2"
           }
          }
         ],
         "layout": {
          "title": {
           "text": "Releases per year: 1998"
          }
         }
        },
        {
         "data": [
          {
           "mode": "lines",
           "name": "Launches",
           "type": "scatter",
           "x": {
            "bdata": "pQemB6cHqAepB6oHqwesB60HrgevB7AHsQeyB7MHtAe1B7YHtwe4B7kHuge7B7wHvQe+B78HwAfBB8IHwwfEB8UHxgfHB8gHyQfKB8sHzAfNB84Hzwc=",
            "dtype": "i2"
           },
           "y": {
            "bdata": "AgAIAA4AFAAmAE0ARwBrAKEAkQCfAIwAigCCAJwAhQCKAIAAngCeAIkApQB8AIIAngCRAJoAowClAIYAhwCRAIsAqgCJAIIAbAB7AGkAZACYAJ0AgQA=",
            "dtype": "i2"
           }
          }
         ],
         "layout": {
          "title": {
           "text": "Releases per year: 1999"
          }
         }
        },
        {
         "data": [
          {
           "mode": "lines",
           "name": "Launches",
           "type": "scatter",
           "x": {
            "bdata": "pQemB6cHqAepB6oHqwesB60HrgevB7AHsQeyB7MHtAe1B7YHtwe4B7kHuge7B7wHvQe+B78HwAfBB8IHwwfEB8UHxgfHB8gHyQfKB8sHzAfNB84HzwfQBw==",
            "dtype": "i2"
           },
           "y": {
            "bdata": "AgAIAA4AFAAmAE0ARwBrAKEAkQCfAIwAigCCAJwAhQCKAIAAngCeAIkApQB8AIIAngCRAJoAowClAIYAhwCRAIsAqgCJAIIAbAB7AGkAZACYAJ0AgQB5AA==",
            "dtype": "i2"
           }
          }
         ],
         "layout": {
          "title": {
           "text": "Releases per year: 2000"
          }
         }
        },
        {
         "data": [
          {
           "mode": "lines",
           "name": "Launches",
           "type": "scatter",
           "x": {
            "bdata": "pQemB6cHqAepB6oHqwesB60HrgevB7AHsQeyB7MHtAe1B7YHtwe4B7kHuge7B7wHvQe+B78HwAfBB8IHwwfEB8UHxgfHB8gHyQfKB8sHzAfNB84HzwfQB9EH",
            "dtype": "i2"
           },
           "y": {
            "bdata": "AgAIAA4AFAAmAE0ARwBrAKEAkQCfAIwAigCCAJwAhQCKAIAAngCeAIkApQB8AIIAngCRAJoAowClAIYAhwCRAIsAqgCJAIIAbAB7AGkAZACYAJ0AgQB5AFYA",
            "dtype": "i2"
           }
          }
         ],
         "layout": {
          "title": {
           "text": "Releases per year: 2001"
          }
         }
        },
        {
         "data": [
          {
           "mode": "lines",
           "name": "Launches",
           "type": "scatter",
           "x": {
            "bdata": "pQemB6cHqAepB6oHqwesB60HrgevB7AHsQeyB7MHtAe1B7YHtwe4B7kHuge7B7wHvQe+B78HwAfBB8IHwwfEB8UHxgfHB8gHyQfKB8sHzAfNB84HzwfQB9EH0gc=",
            "dtype": "i2"
           },
           "y": {
            "bdata": "AgAIAA4AFAAmAE0ARwBrAKEAkQCfAIwAigCCAJwAhQCKAIAAngCeAIkApQB8AIIAngCRAJoAowClAIYAhwCRAIsAqgCJAIIAbAB7AGkAZACYAJ0AgQB5AFYAYAA=",
            "dtype": "i2"
           }
          }
         ],
         "layout": {
          "title": {
           "text": "Releases per year: 2002"
          }
         }
        },
        {
         "data": [
          {
           "mode": "lines",
           "name": "Launches",
           "type": "scatter",
           "x": {
            "bdata": "pQemB6cHqAepB6oHqwesB60HrgevB7AHsQeyB7MHtAe1B7YHtwe4B7kHuge7B7wHvQe+B78HwAfBB8IHwwfEB8UHxgfHB8gHyQfKB8sHzAfNB84HzwfQB9EH0gfTBw==",
            "dtype": "i2"
           },
           "y": {
            "bdata": "AgAIAA4AFAAmAE0ARwBrAKEAkQCfAIwAigCCAJwAhQCKAIAAngCeAIkApQB8AIIAngCRAJoAowClAIYAhwCRAIsAqgCJAIIAbAB7AGkAZACYAJ0AgQB5AFYAYABYAA==",
            "dtype": "i2"
           }
          }
         ],
         "layout": {
          "title": {
           "text": "Releases per year: 2003"
          }
         }
        },
        {
         "data": [
          {
           "mode": "lines",
           "name": "Launches",
           "type": "scatter",
           "x": {
            "bdata": "pQemB6cHqAepB6oHqwesB60HrgevB7AHsQeyB7MHtAe1B7YHtwe4B7kHuge7B7wHvQe+B78HwAfBB8IHwwfEB8UHxgfHB8gHyQfKB8sHzAfNB84HzwfQB9EH0gfTB9QH",
            "dtype": "i2"
           },
           "y": {
            "bdata": "AgAIAA4AFAAmAE0ARwBrAKEAkQCfAIwAigCCAJwAhQCKAIAAngCeAIkApQB8AIIAngCRAJoAowClAIYAhwCRAIsAqgCJAIIAbAB7AGkAZACYAJ0AgQB5AFYAYABYAEoA",
            "dtype": "i2"
           }
          }
         ],
         "layout": {
          "title": {
           "text": "Releases per year: 2004"
          }
         }
        },
        {
         "data": [
          {
           "mode": "lines",
           "name": "Launches",
           "type": "scatter",
           "x": {
            "bdata": "pQemB6cHqAepB6oHqwesB60HrgevB7AHsQeyB7MHtAe1B7YHtwe4B7kHuge7B7wHvQe+B78HwAfBB8IHwwfEB8UHxgfHB8gHyQfKB8sHzAfNB84HzwfQB9EH0gfTB9QH1Qc=",
            "dtype": "i2"
           },
           "y": {
            "bdata": "AgAIAA4AFAAmAE0ARwBrAKEAkQCfAIwAigCCAJwAhQCKAIAAngCeAIkApQB8AIIAngCRAJoAowClAIYAhwCRAIsAqgCJAIIAbAB7AGkAZACYAJ0AgQB5AFYAYABYAEoASAA=",
            "dtype": "i2"
           }
          }
         ],
         "layout": {
          "title": {
           "text": "Releases per year: 2005"
          }
         }
        },
        {
         "data": [
          {
           "mode": "lines",
           "name": "Launches",
           "type": "scatter",
           "x": {
            "bdata": "pQemB6cHqAepB6oHqwesB60HrgevB7AHsQeyB7MHtAe1B7YHtwe4B7kHuge7B7wHvQe+B78HwAfBB8IHwwfEB8UHxgfHB8gHyQfKB8sHzAfNB84HzwfQB9EH0gfTB9QH1QfWBw==",
            "dtype": "i2"
           },
           "y": {
            "bdata": "AgAIAA4AFAAmAE0ARwBrAKEAkQCfAIwAigCCAJwAhQCKAIAAngCeAIkApQB8AIIAngCRAJoAowClAIYAhwCRAIsAqgCJAIIAbAB7AGkAZACYAJ0AgQB5AFYAYABYAEoASABfAA==",
            "dtype": "i2"
           }
          }
         ],
         "layout": {
          "title": {
           "text": "Releases per year: 2006"
          }
         }
        },
        {
         "data": [
          {
           "mode": "lines",
           "name": "Launches",
           "type": "scatter",
           "x": {
            "bdata": "pQemB6cHqAepB6oHqwesB60HrgevB7AHsQeyB7MHtAe1B7YHtwe4B7kHuge7B7wHvQe+B78HwAfBB8IHwwfEB8UHxgfHB8gHyQfKB8sHzAfNB84HzwfQB9EH0gfTB9QH1QfWB9cH",
            "dtype": "i2"
           },
           "y": {
            "bdata": "AgAIAA4AFAAmAE0ARwBrAKEAkQCfAIwAigCCAJwAhQCKAIAAngCeAIkApQB8AIIAngCRAJoAowClAIYAhwCRAIsAqgCJAIIAbAB7AGkAZACYAJ0AgQB5AFYAYABYAEoASABfAG8A",
            "dtype": "i2"
           }
          }
         ],
         "layout": {
          "title": {
           "text": "Releases per year: 2007"
          }
         }
        },
        {
         "data": [
          {
           "mode": "lines",
           "name": "Launches",
           "type": "scatter",
           "x": {
            "bdata": "pQemB6cHqAepB6oHqwesB60HrgevB7AHsQeyB7MHtAe1B7YHtwe4B7kHuge7B7wHvQe+B78HwAfBB8IHwwfEB8UHxgfHB8gHyQfKB8sHzAfNB84HzwfQB9EH0gfTB9QH1QfWB9cH2Ac=",
            "dtype": "i2"
           },
           "y": {
            "bdata": "AgAIAA4AFAAmAE0ARwBrAKEAkQCfAIwAigCCAJwAhQCKAIAAngCeAIkApQB8AIIAngCRAJoAowClAIYAhwCRAIsAqgCJAIIAbAB7AGkAZACYAJ0AgQB5AFYAYABYAEoASABfAG8AbQA=",
            "dtype": "i2"
           }
          }
         ],
         "layout": {
          "title": {
           "text": "Releases per year: 2008"
          }
         }
        },
        {
         "data": [
          {
           "mode": "lines",
           "name": "Launches",
           "type": "scatter",
           "x": {
            "bdata": "pQemB6cHqAepB6oHqwesB60HrgevB7AHsQeyB7MHtAe1B7YHtwe4B7kHuge7B7wHvQe+B78HwAfBB8IHwwfEB8UHxgfHB8gHyQfKB8sHzAfNB84HzwfQB9EH0gfTB9QH1QfWB9cH2AfZBw==",
            "dtype": "i2"
           },
           "y": {
            "bdata": "AgAIAA4AFAAmAE0ARwBrAKEAkQCfAIwAigCCAJwAhQCKAIAAngCeAIkApQB8AIIAngCRAJoAowClAIYAhwCRAIsAqgCJAIIAbAB7AGkAZACYAJ0AgQB5AFYAYABYAEoASABfAG8AbQB9AA==",
            "dtype": "i2"
           }
          }
         ],
         "layout": {
          "title": {
           "text": "Releases per year: 2009"
          }
         }
        },
        {
         "data": [
          {
           "mode": "lines",
           "name": "Launches",
           "type": "scatter",
           "x": {
            "bdata": "pQemB6cHqAepB6oHqwesB60HrgevB7AHsQeyB7MHtAe1B7YHtwe4B7kHuge7B7wHvQe+B78HwAfBB8IHwwfEB8UHxgfHB8gHyQfKB8sHzAfNB84HzwfQB9EH0gfTB9QH1QfWB9cH2AfZB9oH",
            "dtype": "i2"
           },
           "y": {
            "bdata": "AgAIAA4AFAAmAE0ARwBrAKEAkQCfAIwAigCCAJwAhQCKAIAAngCeAIkApQB8AIIAngCRAJoAowClAIYAhwCRAIsAqgCJAIIAbAB7AGkAZACYAJ0AgQB5AFYAYABYAEoASABfAG8AbQB9AHkA",
            "dtype": "i2"
           }
          }
         ],
         "layout": {
          "title": {
           "text": "Releases per year: 2010"
          }
         }
        },
        {
         "data": [
          {
           "mode": "lines",
           "name": "Launches",
           "type": "scatter",
           "x": {
            "bdata": "pQemB6cHqAepB6oHqwesB60HrgevB7AHsQeyB7MHtAe1B7YHtwe4B7kHuge7B7wHvQe+B78HwAfBB8IHwwfEB8UHxgfHB8gHyQfKB8sHzAfNB84HzwfQB9EH0gfTB9QH1QfWB9cH2AfZB9oH2wc=",
            "dtype": "i2"
           },
           "y": {
            "bdata": "AgAIAA4AFAAmAE0ARwBrAKEAkQCfAIwAigCCAJwAhQCKAIAAngCeAIkApQB8AIIAngCRAJoAowClAIYAhwCRAIsAqgCJAIIAbAB7AGkAZACYAJ0AgQB5AFYAYABYAEoASABfAG8AbQB9AHkAgQA=",
            "dtype": "i2"
           }
          }
         ],
         "layout": {
          "title": {
           "text": "Releases per year: 2011"
          }
         }
        },
        {
         "data": [
          {
           "mode": "lines",
           "name": "Launches",
           "type": "scatter",
           "x": {
            "bdata": "pQemB6cHqAepB6oHqwesB60HrgevB7AHsQeyB7MHtAe1B7YHtwe4B7kHuge7B7wHvQe+B78HwAfBB8IHwwfEB8UHxgfHB8gHyQfKB8sHzAfNB84HzwfQB9EH0gfTB9QH1QfWB9cH2AfZB9oH2wfcBw==",
            "dtype": "i2"
           },
           "y": {
            "bdata": "AgAIAA4AFAAmAE0ARwBrAKEAkQCfAIwAigCCAJwAhQCKAIAAngCeAIkApQB8AIIAngCRAJoAowClAIYAhwCRAIsAqgCJAIIAbAB7AGkAZACYAJ0AgQB5AFYAYABYAEoASABfAG8AbQB9AHkAgQCGAA==",
            "dtype": "i2"
           }
          }
         ],
         "layout": {
          "title": {
           "text": "Releases per year: 2012"
          }
         }
        },
        {
         "data": [
          {
           "mode": "lines",
           "name": "Launches",
           "type": "scatter",
           "x": {
            "bdata": "pQemB6cHqAepB6oHqwesB60HrgevB7AHsQeyB7MHtAe1B7YHtwe4B7kHuge7B7wHvQe+B78HwAfBB8IHwwfEB8UHxgfHB8gHyQfKB8sHzAfNB84HzwfQB9EH0gfTB9QH1QfWB9cH2AfZB9oH2wfcB90H",
            "dtype": "i2"
           },
           "y": {
            "bdata": "AgAIAA4AFAAmAE0ARwBrAKEAkQCfAIwAigCCAJwAhQCKAIAAngCeAIkApQB8AIIAngCRAJoAowClAIYAhwCRAIsAqgCJAIIAbAB7AGkAZACYAJ0AgQB5AFYAYABYAEoASABfAG8AbQB9AHkAgQCGANIA",
            "dtype": "i2"
           }
          }
         ],
         "layout": {
          "title": {
           "text": "Releases per year: 2013"
          }
         }
        },
        {
         "data": [
          {
           "mode": "lines",
           "name": "Launches",
           "type": "scatter",
           "x": {
            "bdata": "pQemB6cHqAepB6oHqwesB60HrgevB7AHsQeyB7MHtAe1B7YHtwe4B7kHuge7B7wHvQe+B78HwAfBB8IHwwfEB8UHxgfHB8gHyQfKB8sHzAfNB84HzwfQB9EH0gfTB9QH1QfWB9cH2AfZB9oH2wfcB90H3gc=",
            "dtype": "i2"
           },
           "y": {
            "bdata": "AgAIAA4AFAAmAE0ARwBrAKEAkQCfAIwAigCCAJwAhQCKAIAAngCeAIkApQB8AIIAngCRAJoAowClAIYAhwCRAIsAqgCJAIIAbAB7AGkAZACYAJ0AgQB5AFYAYABYAEoASABfAG8AbQB9AHkAgQCGANIA8QA=",
            "dtype": "i2"
           }
          }
         ],
         "layout": {
          "title": {
           "text": "Releases per year: 2014"
          }
         }
        },
        {
         "data": [
          {
           "mode": "lines",
           "name": "Launches",
           "type": "scatter",
           "x": {
            "bdata": "pQemB6cHqAepB6oHqwesB60HrgevB7AHsQeyB7MHtAe1B7YHtwe4B7kHuge7B7wHvQe+B78HwAfBB8IHwwfEB8UHxgfHB8gHyQfKB8sHzAfNB84HzwfQB9EH0gfTB9QH1QfWB9cH2AfZB9oH2wfcB90H3gffBw==",
            "dtype": "i2"
           },
           "y": {
            "bdata": "AgAIAA4AFAAmAE0ARwBrAKEAkQCfAIwAigCCAJwAhQCKAIAAngCeAIkApQB8AIIAngCRAJoAowClAIYAhwCRAIsAqgCJAIIAbAB7AGkAZACYAJ0AgQB5AFYAYABYAEoASABfAG8AbQB9AHkAgQCGANIA8QDeAA==",
            "dtype": "i2"
           }
          }
         ],
         "layout": {
          "title": {
           "text": "Releases per year: 2015"
          }
         }
        },
        {
         "data": [
          {
           "mode": "lines",
           "name": "Launches",
           "type": "scatter",
           "x": {
            "bdata": "pQemB6cHqAepB6oHqwesB60HrgevB7AHsQeyB7MHtAe1B7YHtwe4B7kHuge7B7wHvQe+B78HwAfBB8IHwwfEB8UHxgfHB8gHyQfKB8sHzAfNB84HzwfQB9EH0gfTB9QH1QfWB9cH2AfZB9oH2wfcB90H3gffB+AH",
            "dtype": "i2"
           },
           "y": {
            "bdata": "AgAIAA4AFAAmAE0ARwBrAKEAkQCfAIwAigCCAJwAhQCKAIAAngCeAIkApQB8AIIAngCRAJoAowClAIYAhwCRAIsAqgCJAIIAbAB7AGkAZACYAJ0AgQB5AFYAYABYAEoASABfAG8AbQB9AHkAgQCGANIA8QDeAN0A",
            "dtype": "i2"
           }
          }
         ],
         "layout": {
          "title": {
           "text": "Releases per year: 2016"
          }
         }
        },
        {
         "data": [
          {
           "mode": "lines",
           "name": "Launches",
           "type": "scatter",
           "x": {
            "bdata": "pQemB6cHqAepB6oHqwesB60HrgevB7AHsQeyB7MHtAe1B7YHtwe4B7kHuge7B7wHvQe+B78HwAfBB8IHwwfEB8UHxgfHB8gHyQfKB8sHzAfNB84HzwfQB9EH0gfTB9QH1QfWB9cH2AfZB9oH2wfcB90H3gffB+AH4Qc=",
            "dtype": "i2"
           },
           "y": {
            "bdata": "AgAIAA4AFAAmAE0ARwBrAKEAkQCfAIwAigCCAJwAhQCKAIAAngCeAIkApQB8AIIAngCRAJoAowClAIYAhwCRAIsAqgCJAIIAbAB7AGkAZACYAJ0AgQB5AFYAYABYAEoASABfAG8AbQB9AHkAgQCGANIA8QDeAN0AyAE=",
            "dtype": "i2"
           }
          }
         ],
         "layout": {
          "title": {
           "text": "Releases per year: 2017"
          }
         }
        },
        {
         "data": [
          {
           "mode": "lines",
           "name": "Launches",
           "type": "scatter",
           "x": {
            "bdata": "pQemB6cHqAepB6oHqwesB60HrgevB7AHsQeyB7MHtAe1B7YHtwe4B7kHuge7B7wHvQe+B78HwAfBB8IHwwfEB8UHxgfHB8gHyQfKB8sHzAfNB84HzwfQB9EH0gfTB9QH1QfWB9cH2AfZB9oH2wfcB90H3gffB+AH4QfiBw==",
            "dtype": "i2"
           },
           "y": {
            "bdata": "AgAIAA4AFAAmAE0ARwBrAKEAkQCfAIwAigCCAJwAhQCKAIAAngCeAIkApQB8AIIAngCRAJoAowClAIYAhwCRAIsAqgCJAIIAbAB7AGkAZACYAJ0AgQB5AFYAYABYAEoASABfAG8AbQB9AHkAgQCGANIA8QDeAN0AyAHEAQ==",
            "dtype": "i2"
           }
          }
         ],
         "layout": {
          "title": {
           "text": "Releases per year: 2018"
          }
         }
        },
        {
         "data": [
          {
           "mode": "lines",
           "name": "Launches",
           "type": "scatter",
           "x": {
            "bdata": "pQemB6cHqAepB6oHqwesB60HrgevB7AHsQeyB7MHtAe1B7YHtwe4B7kHuge7B7wHvQe+B78HwAfBB8IHwwfEB8UHxgfHB8gHyQfKB8sHzAfNB84HzwfQB9EH0gfTB9QH1QfWB9cH2AfZB9oH2wfcB90H3gffB+AH4QfiB+MH",
            "dtype": "i2"
           },
           "y": {
            "bdata": "AgAIAA4AFAAmAE0ARwBrAKEAkQCfAIwAigCCAJwAhQCKAIAAngCeAIkApQB8AIIAngCRAJoAowClAIYAhwCRAIsAqgCJAIIAbAB7AGkAZACYAJ0AgQB5AFYAYABYAEoASABfAG8AbQB9AHkAgQCGANIA8QDeAN0AyAHEAUoC",
            "dtype": "i2"
           }
          }
         ],
         "layout": {
          "title": {
           "text": "Releases per year: 2019"
          }
         }
        },
        {
         "data": [
          {
           "mode": "lines",
           "name": "Launches",
           "type": "scatter",
           "x": {
            "bdata": "pQemB6cHqAepB6oHqwesB60HrgevB7AHsQeyB7MHtAe1B7YHtwe4B7kHuge7B7wHvQe+B78HwAfBB8IHwwfEB8UHxgfHB8gHyQfKB8sHzAfNB84HzwfQB9EH0gfTB9QH1QfWB9cH2AfZB9oH2wfcB90H3gffB+AH4QfiB+MH5Ac=",
            "dtype": "i2"
           },
           "y": {
            "bdata": "AgAIAA4AFAAmAE0ARwBrAKEAkQCfAIwAigCCAJwAhQCKAIAAngCeAIkApQB8AIIAngCRAJoAowClAIYAhwCRAIsAqgCJAIIAbAB7AGkAZACYAJ0AgQB5AFYAYABYAEoASABfAG8AbQB9AHkAgQCGANIA8QDeAN0AyAHEAUoC+gQ=",
            "dtype": "i2"
           }
          }
         ],
         "layout": {
          "title": {
           "text": "Releases per year: 2020"
          }
         }
        },
        {
         "data": [
          {
           "mode": "lines",
           "name": "Launches",
           "type": "scatter",
           "x": {
            "bdata": "pQemB6cHqAepB6oHqwesB60HrgevB7AHsQeyB7MHtAe1B7YHtwe4B7kHuge7B7wHvQe+B78HwAfBB8IHwwfEB8UHxgfHB8gHyQfKB8sHzAfNB84HzwfQB9EH0gfTB9QH1QfWB9cH2AfZB9oH2wfcB90H3gffB+AH4QfiB+MH5AflBw==",
            "dtype": "i2"
           },
           "y": {
            "bdata": "AgAIAA4AFAAmAE0ARwBrAKEAkQCfAIwAigCCAJwAhQCKAIAAngCeAIkApQB8AIIAngCRAJoAowClAIYAhwCRAIsAqgCJAIIAbAB7AGkAZACYAJ0AgQB5AFYAYABYAEoASABfAG8AbQB9AHkAgQCGANIA8QDeAN0AyAHEAUoC+gQWBw==",
            "dtype": "i2"
           }
          }
         ],
         "layout": {
          "title": {
           "text": "Releases per year: 2021"
          }
         }
        },
        {
         "data": [
          {
           "mode": "lines",
           "name": "Launches",
           "type": "scatter",
           "x": {
            "bdata": "pQemB6cHqAepB6oHqwesB60HrgevB7AHsQeyB7MHtAe1B7YHtwe4B7kHuge7B7wHvQe+B78HwAfBB8IHwwfEB8UHxgfHB8gHyQfKB8sHzAfNB84HzwfQB9EH0gfTB9QH1QfWB9cH2AfZB9oH2wfcB90H3gffB+AH4QfiB+MH5AflB+YH",
            "dtype": "i2"
           },
           "y": {
            "bdata": "AgAIAA4AFAAmAE0ARwBrAKEAkQCfAIwAigCCAJwAhQCKAIAAngCeAIkApQB8AIIAngCRAJoAowClAIYAhwCRAIsAqgCJAIIAbAB7AGkAZACYAJ0AgQB5AFYAYABYAEoASABfAG8AbQB9AHkAgQCGANIA8QDeAN0AyAHEAUoC+gQWB60J",
            "dtype": "i2"
           }
          }
         ],
         "layout": {
          "title": {
           "text": "Releases per year: 2022"
          }
         }
        },
        {
         "data": [
          {
           "mode": "lines",
           "name": "Launches",
           "type": "scatter",
           "x": {
            "bdata": "pQemB6cHqAepB6oHqwesB60HrgevB7AHsQeyB7MHtAe1B7YHtwe4B7kHuge7B7wHvQe+B78HwAfBB8IHwwfEB8UHxgfHB8gHyQfKB8sHzAfNB84HzwfQB9EH0gfTB9QH1QfWB9cH2AfZB9oH2wfcB90H3gffB+AH4QfiB+MH5AflB+YH5wc=",
            "dtype": "i2"
           },
           "y": {
            "bdata": "AgAIAA4AFAAmAE0ARwBrAKEAkQCfAIwAigCCAJwAhQCKAIAAngCeAIkApQB8AIIAngCRAJoAowClAIYAhwCRAIsAqgCJAIIAbAB7AGkAZACYAJ0AgQB5AFYAYABYAEoASABfAG8AbQB9AHkAgQCGANIA8QDeAN0AyAHEAUoC+gQWB60JUgs=",
            "dtype": "i2"
           }
          }
         ],
         "layout": {
          "title": {
           "text": "Releases per year: 2023"
          }
         }
        },
        {
         "data": [
          {
           "mode": "lines",
           "name": "Launches",
           "type": "scatter",
           "x": {
            "bdata": "pQemB6cHqAepB6oHqwesB60HrgevB7AHsQeyB7MHtAe1B7YHtwe4B7kHuge7B7wHvQe+B78HwAfBB8IHwwfEB8UHxgfHB8gHyQfKB8sHzAfNB84HzwfQB9EH0gfTB9QH1QfWB9cH2AfZB9oH2wfcB90H3gffB+AH4QfiB+MH5AflB+YH5wfoBw==",
            "dtype": "i2"
           },
           "y": {
            "bdata": "AgAIAA4AFAAmAE0ARwBrAKEAkQCfAIwAigCCAJwAhQCKAIAAngCeAIkApQB8AIIAngCRAJoAowClAIYAhwCRAIsAqgCJAIIAbAB7AGkAZACYAJ0AgQB5AFYAYABYAEoASABfAG8AbQB9AHkAgQCGANIA8QDeAN0AyAHEAUoC+gQWB60JUgshCw==",
            "dtype": "i2"
           }
          }
         ],
         "layout": {
          "title": {
           "text": "Releases per year: 2024"
          }
         }
        }
       ],
       "layout": {
        "paper_bgcolor": "rgba(0,0,0,0)",
        "plot_bgcolor": "rgba(0,0,0,0)",
        "template": {
         "data": {
          "bar": [
           {
            "error_x": {
             "color": "#2a3f5f"
            },
            "error_y": {
             "color": "#2a3f5f"
            },
            "marker": {
             "line": {
              "color": "#E5ECF6",
              "width": 0.5
             },
             "pattern": {
              "fillmode": "overlay",
              "size": 10,
              "solidity": 0.2
             }
            },
            "type": "bar"
           }
          ],
          "barpolar": [
           {
            "marker": {
             "line": {
              "color": "#E5ECF6",
              "width": 0.5
             },
             "pattern": {
              "fillmode": "overlay",
              "size": 10,
              "solidity": 0.2
             }
            },
            "type": "barpolar"
           }
          ],
          "carpet": [
           {
            "aaxis": {
             "endlinecolor": "#2a3f5f",
             "gridcolor": "white",
             "linecolor": "white",
             "minorgridcolor": "white",
             "startlinecolor": "#2a3f5f"
            },
            "baxis": {
             "endlinecolor": "#2a3f5f",
             "gridcolor": "white",
             "linecolor": "white",
             "minorgridcolor": "white",
             "startlinecolor": "#2a3f5f"
            },
            "type": "carpet"
           }
          ],
          "choropleth": [
           {
            "colorbar": {
             "outlinewidth": 0,
             "ticks": ""
            },
            "type": "choropleth"
           }
          ],
          "contour": [
           {
            "colorbar": {
             "outlinewidth": 0,
             "ticks": ""
            },
            "colorscale": [
             [
              0,
              "#0d0887"
             ],
             [
              0.1111111111111111,
              "#46039f"
             ],
             [
              0.2222222222222222,
              "#7201a8"
             ],
             [
              0.3333333333333333,
              "#9c179e"
             ],
             [
              0.4444444444444444,
              "#bd3786"
             ],
             [
              0.5555555555555556,
              "#d8576b"
             ],
             [
              0.6666666666666666,
              "#ed7953"
             ],
             [
              0.7777777777777778,
              "#fb9f3a"
             ],
             [
              0.8888888888888888,
              "#fdca26"
             ],
             [
              1,
              "#f0f921"
             ]
            ],
            "type": "contour"
           }
          ],
          "contourcarpet": [
           {
            "colorbar": {
             "outlinewidth": 0,
             "ticks": ""
            },
            "type": "contourcarpet"
           }
          ],
          "heatmap": [
           {
            "colorbar": {
             "outlinewidth": 0,
             "ticks": ""
            },
            "colorscale": [
             [
              0,
              "#0d0887"
             ],
             [
              0.1111111111111111,
              "#46039f"
             ],
             [
              0.2222222222222222,
              "#7201a8"
             ],
             [
              0.3333333333333333,
              "#9c179e"
             ],
             [
              0.4444444444444444,
              "#bd3786"
             ],
             [
              0.5555555555555556,
              "#d8576b"
             ],
             [
              0.6666666666666666,
              "#ed7953"
             ],
             [
              0.7777777777777778,
              "#fb9f3a"
             ],
             [
              0.8888888888888888,
              "#fdca26"
             ],
             [
              1,
              "#f0f921"
             ]
            ],
            "type": "heatmap"
           }
          ],
          "histogram": [
           {
            "marker": {
             "pattern": {
              "fillmode": "overlay",
              "size": 10,
              "solidity": 0.2
             }
            },
            "type": "histogram"
           }
          ],
          "histogram2d": [
           {
            "colorbar": {
             "outlinewidth": 0,
             "ticks": ""
            },
            "colorscale": [
             [
              0,
              "#0d0887"
             ],
             [
              0.1111111111111111,
              "#46039f"
             ],
             [
              0.2222222222222222,
              "#7201a8"
             ],
             [
              0.3333333333333333,
              "#9c179e"
             ],
             [
              0.4444444444444444,
              "#bd3786"
             ],
             [
              0.5555555555555556,
              "#d8576b"
             ],
             [
              0.6666666666666666,
              "#ed7953"
             ],
             [
              0.7777777777777778,
              "#fb9f3a"
             ],
             [
              0.8888888888888888,
              "#fdca26"
             ],
             [
              1,
              "#f0f921"
             ]
            ],
            "type": "histogram2d"
           }
          ],
          "histogram2dcontour": [
           {
            "colorbar": {
             "outlinewidth": 0,
             "ticks": ""
            },
            "colorscale": [
             [
              0,
              "#0d0887"
             ],
             [
              0.1111111111111111,
              "#46039f"
             ],
             [
              0.2222222222222222,
              "#7201a8"
             ],
             [
              0.3333333333333333,
              "#9c179e"
             ],
             [
              0.4444444444444444,
              "#bd3786"
             ],
             [
              0.5555555555555556,
              "#d8576b"
             ],
             [
              0.6666666666666666,
              "#ed7953"
             ],
             [
              0.7777777777777778,
              "#fb9f3a"
             ],
             [
              0.8888888888888888,
              "#fdca26"
             ],
             [
              1,
              "#f0f921"
             ]
            ],
            "type": "histogram2dcontour"
           }
          ],
          "mesh3d": [
           {
            "colorbar": {
             "outlinewidth": 0,
             "ticks": ""
            },
            "type": "mesh3d"
           }
          ],
          "parcoords": [
           {
            "line": {
             "colorbar": {
              "outlinewidth": 0,
              "ticks": ""
             }
            },
            "type": "parcoords"
           }
          ],
          "pie": [
           {
            "automargin": true,
            "type": "pie"
           }
          ],
          "scatter": [
           {
            "fillpattern": {
             "fillmode": "overlay",
             "size": 10,
             "solidity": 0.2
            },
            "type": "scatter"
           }
          ],
          "scatter3d": [
           {
            "line": {
             "colorbar": {
              "outlinewidth": 0,
              "ticks": ""
             }
            },
            "marker": {
             "colorbar": {
              "outlinewidth": 0,
              "ticks": ""
             }
            },
            "type": "scatter3d"
           }
          ],
          "scattercarpet": [
           {
            "marker": {
             "colorbar": {
              "outlinewidth": 0,
              "ticks": ""
             }
            },
            "type": "scattercarpet"
           }
          ],
          "scattergeo": [
           {
            "marker": {
             "colorbar": {
              "outlinewidth": 0,
              "ticks": ""
             }
            },
            "type": "scattergeo"
           }
          ],
          "scattergl": [
           {
            "marker": {
             "colorbar": {
              "outlinewidth": 0,
              "ticks": ""
             }
            },
            "type": "scattergl"
           }
          ],
          "scattermap": [
           {
            "marker": {
             "colorbar": {
              "outlinewidth": 0,
              "ticks": ""
             }
            },
            "type": "scattermap"
           }
          ],
          "scattermapbox": [
           {
            "marker": {
             "colorbar": {
              "outlinewidth": 0,
              "ticks": ""
             }
            },
            "type": "scattermapbox"
           }
          ],
          "scatterpolar": [
           {
            "marker": {
             "colorbar": {
              "outlinewidth": 0,
              "ticks": ""
             }
            },
            "type": "scatterpolar"
           }
          ],
          "scatterpolargl": [
           {
            "marker": {
             "colorbar": {
              "outlinewidth": 0,
              "ticks": ""
             }
            },
            "type": "scatterpolargl"
           }
          ],
          "scatterternary": [
           {
            "marker": {
             "colorbar": {
              "outlinewidth": 0,
              "ticks": ""
             }
            },
            "type": "scatterternary"
           }
          ],
          "surface": [
           {
            "colorbar": {
             "outlinewidth": 0,
             "ticks": ""
            },
            "colorscale": [
             [
              0,
              "#0d0887"
             ],
             [
              0.1111111111111111,
              "#46039f"
             ],
             [
              0.2222222222222222,
              "#7201a8"
             ],
             [
              0.3333333333333333,
              "#9c179e"
             ],
             [
              0.4444444444444444,
              "#bd3786"
             ],
             [
              0.5555555555555556,
              "#d8576b"
             ],
             [
              0.6666666666666666,
              "#ed7953"
             ],
             [
              0.7777777777777778,
              "#fb9f3a"
             ],
             [
              0.8888888888888888,
              "#fdca26"
             ],
             [
              1,
              "#f0f921"
             ]
            ],
            "type": "surface"
           }
          ],
          "table": [
           {
            "cells": {
             "fill": {
              "color": "#EBF0F8"
             },
             "line": {
              "color": "white"
             }
            },
            "header": {
             "fill": {
              "color": "#C8D4E3"
             },
             "line": {
              "color": "white"
             }
            },
            "type": "table"
           }
          ]
         },
         "layout": {
          "annotationdefaults": {
           "arrowcolor": "#2a3f5f",
           "arrowhead": 0,
           "arrowwidth": 1
          },
          "autotypenumbers": "strict",
          "coloraxis": {
           "colorbar": {
            "outlinewidth": 0,
            "ticks": ""
           }
          },
          "colorscale": {
           "diverging": [
            [
             0,
             "#8e0152"
            ],
            [
             0.1,
             "#c51b7d"
            ],
            [
             0.2,
             "#de77ae"
            ],
            [
             0.3,
             "#f1b6da"
            ],
            [
             0.4,
             "#fde0ef"
            ],
            [
             0.5,
             "#f7f7f7"
            ],
            [
             0.6,
             "#e6f5d0"
            ],
            [
             0.7,
             "#b8e186"
            ],
            [
             0.8,
             "#7fbc41"
            ],
            [
             0.9,
             "#4d9221"
            ],
            [
             1,
             "#276419"
            ]
           ],
           "sequential": [
            [
             0,
             "#0d0887"
            ],
            [
             0.1111111111111111,
             "#46039f"
            ],
            [
             0.2222222222222222,
             "#7201a8"
            ],
            [
             0.3333333333333333,
             "#9c179e"
            ],
            [
             0.4444444444444444,
             "#bd3786"
            ],
            [
             0.5555555555555556,
             "#d8576b"
            ],
            [
             0.6666666666666666,
             "#ed7953"
            ],
            [
             0.7777777777777778,
             "#fb9f3a"
            ],
            [
             0.8888888888888888,
             "#fdca26"
            ],
            [
             1,
             "#f0f921"
            ]
           ],
           "sequentialminus": [
            [
             0,
             "#0d0887"
            ],
            [
             0.1111111111111111,
             "#46039f"
            ],
            [
             0.2222222222222222,
             "#7201a8"
            ],
            [
             0.3333333333333333,
             "#9c179e"
            ],
            [
             0.4444444444444444,
             "#bd3786"
            ],
            [
             0.5555555555555556,
             "#d8576b"
            ],
            [
             0.6666666666666666,
             "#ed7953"
            ],
            [
             0.7777777777777778,
             "#fb9f3a"
            ],
            [
             0.8888888888888888,
             "#fdca26"
            ],
            [
             1,
             "#f0f921"
            ]
           ]
          },
          "colorway": [
           "#636efa",
           "#EF553B",
           "#00cc96",
           "#ab63fa",
           "#FFA15A",
           "#19d3f3",
           "#FF6692",
           "#B6E880",
           "#FF97FF",
           "#FECB52"
          ],
          "font": {
           "color": "#2a3f5f"
          },
          "geo": {
           "bgcolor": "white",
           "lakecolor": "white",
           "landcolor": "#E5ECF6",
           "showlakes": true,
           "showland": true,
           "subunitcolor": "white"
          },
          "hoverlabel": {
           "align": "left"
          },
          "hovermode": "closest",
          "mapbox": {
           "style": "light"
          },
          "paper_bgcolor": "white",
          "plot_bgcolor": "#E5ECF6",
          "polar": {
           "angularaxis": {
            "gridcolor": "white",
            "linecolor": "white",
            "ticks": ""
           },
           "bgcolor": "#E5ECF6",
           "radialaxis": {
            "gridcolor": "white",
            "linecolor": "white",
            "ticks": ""
           }
          },
          "scene": {
           "xaxis": {
            "backgroundcolor": "#E5ECF6",
            "gridcolor": "white",
            "gridwidth": 2,
            "linecolor": "white",
            "showbackground": true,
            "ticks": "",
            "zerolinecolor": "white"
           },
           "yaxis": {
            "backgroundcolor": "#E5ECF6",
            "gridcolor": "white",
            "gridwidth": 2,
            "linecolor": "white",
            "showbackground": true,
            "ticks": "",
            "zerolinecolor": "white"
           },
           "zaxis": {
            "backgroundcolor": "#E5ECF6",
            "gridcolor": "white",
            "gridwidth": 2,
            "linecolor": "white",
            "showbackground": true,
            "ticks": "",
            "zerolinecolor": "white"
           }
          },
          "shapedefaults": {
           "line": {
            "color": "#2a3f5f"
           }
          },
          "ternary": {
           "aaxis": {
            "gridcolor": "white",
            "linecolor": "white",
            "ticks": ""
           },
           "baxis": {
            "gridcolor": "white",
            "linecolor": "white",
            "ticks": ""
           },
           "bgcolor": "#E5ECF6",
           "caxis": {
            "gridcolor": "white",
            "linecolor": "white",
            "ticks": ""
           }
          },
          "title": {
           "x": 0.05
          },
          "xaxis": {
           "automargin": true,
           "gridcolor": "white",
           "linecolor": "white",
           "ticks": "",
           "title": {
            "standoff": 15
           },
           "zerolinecolor": "white",
           "zerolinewidth": 2
          },
          "yaxis": {
           "automargin": true,
           "gridcolor": "white",
           "linecolor": "white",
           "ticks": "",
           "title": {
            "standoff": 15
           },
           "zerolinecolor": "white",
           "zerolinewidth": 2
          }
         }
        },
        "title": {
         "text": "Releases per year"
        },
        "updatemenus": [
         {
          "buttons": [
           {
            "args": [
             null,
             {
              "frame": {
               "duration": 400,
               "redraw": true
              },
              "fromcurrent": true,
              "transition": {
               "duration": 400
              }
             }
            ],
            "label": "Play",
            "method": "animate"
           }
          ],
          "showactive": false,
          "type": "buttons"
         }
        ],
        "xaxis": {
         "title": {
          "text": "Year"
         }
        },
        "yaxis": {
         "title": {
          "text": "Launches"
         }
        }
       }
      }
     },
     "metadata": {},
     "output_type": "display_data"
    }
   ],
   "source": [
    "\n",
    "fig = go.Figure()\n",
    "\n",
    "fig.add_trace(go.Scatter(x=[], y=[], mode='lines', name='Launches'))\n",
    "\n",
    "frames = [go.Frame(\n",
    "    data=[\n",
    "        go.Scatter(x=df['Year'][:k+1], y=df['Launches'][:k+1], mode='lines', name='Launches')\n",
    "    ],\n",
    "    layout=go.Layout(\n",
    "        title=f'Releases per year: {df[\"Year\"][k]}'\n",
    "    )\n",
    ") \n",
    "for k in range(len(df))]\n",
    "\n",
    "fig.update(frames=frames)\n",
    "\n",
    "fig.update_layout(\n",
    "    updatemenus=[dict(\n",
    "        type='buttons',\n",
    "        showactive=False,\n",
    "        buttons=[dict(label='Play',\n",
    "                      method='animate',\n",
    "                      args=[None, dict(frame=dict(duration=400, redraw=True),\n",
    "                                       transition=dict(duration=400),\n",
    "                                       fromcurrent=True\n",
    "                                       )]\n",
    "                      )]\n",
    "    )]\n",
    ")\n",
    "fig.update_layout(\n",
    "    title='Releases per year',\n",
    "    xaxis_title='Year',\n",
    "    yaxis_title='Launches'\n",
    ")\n",
    "fig.update_layout(plot_bgcolor='rgba(0,0,0,0)', paper_bgcolor='rgba(0,0,0,0)')\n",
    "fig.show()"
   ]
  }
 ],
 "metadata": {
  "kernelspec": {
   "display_name": "Python 3",
   "language": "python",
   "name": "python3"
  },
  "language_info": {
   "codemirror_mode": {
    "name": "ipython",
    "version": 3
   },
   "file_extension": ".py",
   "mimetype": "text/x-python",
   "name": "python",
   "nbconvert_exporter": "python",
   "pygments_lexer": "ipython3",
   "version": "3.12.8"
  }
 },
 "nbformat": 4,
 "nbformat_minor": 5
}
